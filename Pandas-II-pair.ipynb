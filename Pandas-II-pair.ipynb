{
 "cells": [
  {
   "attachments": {},
   "cell_type": "markdown",
   "metadata": {},
   "source": [
    "# Pair Programming Pandas II\n",
    "\n",
    "# Guardado de datos\n",
    "\n",
    "En este ejercicio de pair programming pondremos en práctica como cargar distintos tipos de archivos en Python usando Pandas.\n",
    "\n",
    "Al final de la explicación encontrareís una serie de ficheros con distintos formatos.\n",
    "\n",
    "Los objetivos de este pair programming:\n",
    "\n",
    "Id cargando todos los ficheros en vuestro jupyter.\n",
    "\n",
    "📌 NOTA En la apertura del archivo de quejas.csv puede que os salga un error como este:\n",
    "error\n",
    "\n",
    "Esto es debido a que habrá que indicar el encoding y el separador de este fichero. En concreto el encoding es de tipo \"ISO-8859-1\". El separador os lo dejamos a vosotras para que investigueis un poquito.\n",
    "\n",
    "- Utlizando el dataset de quejas.csv y usando el loc, quedaros solo con aquellos datos que correspondan a tipo \"Sugerencia\" (para solucionar este ejercicio tendréis que poner en práctica métodos aprendidos en la lección de ayer). En este caso querremos todas las columnas. Almacenad los resultados en nuevo dataframe que se llame df_sugerencias.\n",
    "\n",
    "\n",
    "- Utlizando el dataset de quejas.csv y usando el loc,quedaros solo con aquellos datos que correspondan con canal de entrada \"Presencial\" y y que sean de tipo \"Queja\" (para solucionar este ejercicio tendréis que poner en práctica métodos aprendidos en la lección de ayer). En este caso solo querremos las columnas de \"fecha_entrada\" y \"fecha_contestacion\". Almacenad los resultados en nuevo dataframe que se llame df_queja_presencial.\n",
    "\n",
    "\n",
    "Para poner el práctica el read_clipboard en  página web os encontraréis una tabla similar a esta que os mostramos a continuación 👇:\n",
    "tabla\n",
    "\n",
    "Usando el método read_clipboard, cread un dataframe nuevo que nos ayude a contestar las siguientes preguntas:\n",
    "\n",
    "- Usando el iloc, ¿Cuál es la temperatura mínima de Febrero? ¿Y la máxima?\n",
    "\n",
    "- Usando el loc, ¿Cuántas horas de sol hay en Julio? ¿Y en Diciembre?\n",
    "\n",
    "- Usando el iloc, ¿Cuál fue la húmedad del mes de Septiembre? ¿Y la precipitación?\n",
    "\n",
    "- Estos datos corresponden a los años 1991-2021. Cread una nueva columna cuyo valor sea \"1991-2021\".\n",
    "\n",
    "- Por último, guardad el dataframe generado en el ejercicio 2 en formato csv y xlsx."
   ]
  },
  {
   "cell_type": "code",
   "execution_count": null,
   "metadata": {},
   "outputs": [],
   "source": []
  }
 ],
 "metadata": {
  "language_info": {
   "name": "python"
  },
  "orig_nbformat": 4
 },
 "nbformat": 4,
 "nbformat_minor": 2
}
