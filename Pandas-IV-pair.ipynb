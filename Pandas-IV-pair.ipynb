{
 "cells": [
  {
   "attachments": {},
   "cell_type": "markdown",
   "metadata": {},
   "source": [
    "# Pair Programming Pandas IV\n",
    "\n",
    "Los objetivos de la clase de hoy son:\n",
    "\n",
    "\n",
    "Cargad el csv que guardasteis ayer.\n",
    "\n",
    "Antes de seguir con las preguntas, para evitar posibles errores con los nulos vamos a eliminar todos los nulos del DataFrame, esto lo haremos sobre el archivo de 2016.xlsx. \n",
    "\n",
    "Para ello vamos a utilizar el método .dropna() de Pandas. Tendréis que ejecutar la siguiente línea de código para eliminar los nulos del DataFrame y poder seguir haciendo el resto de los ejercicios.\n",
    "\n",
    "df.dropna(inplace = True)\n",
    "\n",
    "1. ¿Cuántas filas se han eliminado con esta línea de código?\n"
   ]
  },
  {
   "cell_type": "code",
   "execution_count": 8,
   "metadata": {},
   "outputs": [],
   "source": [
    "import pandas as pd\n",
    "import numpy as np\n",
    "import pickle\n",
    "import os"
   ]
  },
  {
   "cell_type": "code",
   "execution_count": 9,
   "metadata": {},
   "outputs": [],
   "source": [
    "df_pandas_2016 = pd.read_excel(\"../archivos/2016_pandasIII.xlsx\") "
   ]
  },
  {
   "cell_type": "code",
   "execution_count": 10,
   "metadata": {},
   "outputs": [
    {
     "data": {
      "text/plain": [
       "id_ticket          13050\n",
       "fecha              13025\n",
       "id_empleado        13049\n",
       "id_agente          13050\n",
       "categoría          13038\n",
       "tipo               13050\n",
       "severidad          13025\n",
       "prioridad          13025\n",
       "días_resolución    13049\n",
       "satisfacción       13037\n",
       "dtype: int64"
      ]
     },
     "execution_count": 10,
     "metadata": {},
     "output_type": "execute_result"
    }
   ],
   "source": [
    "df_pandas_2016.count(axis = 0)"
   ]
  },
  {
   "cell_type": "code",
   "execution_count": 11,
   "metadata": {},
   "outputs": [
    {
     "name": "stdout",
     "output_type": "stream",
     "text": [
      "id_ticket           1\n",
      "fecha              26\n",
      "id_empleado         2\n",
      "id_agente           1\n",
      "categoría          13\n",
      "tipo                1\n",
      "severidad          26\n",
      "prioridad          26\n",
      "días_resolución     2\n",
      "satisfacción       14\n",
      "dtype: int64\n"
     ]
    },
    {
     "data": {
      "text/plain": [
       "'Se deberían eliminar 112 filas.'"
      ]
     },
     "execution_count": 11,
     "metadata": {},
     "output_type": "execute_result"
    }
   ],
   "source": [
    "nulos_sum = df_pandas_2016.isnull().sum()\n",
    "print(nulos_sum)\n",
    "f'Se deberían eliminar {nulos_sum.sum()} filas.'"
   ]
  },
  {
   "cell_type": "code",
   "execution_count": 12,
   "metadata": {},
   "outputs": [],
   "source": [
    "df_pandas_2016.dropna(inplace = True)"
   ]
  },
  {
   "attachments": {},
   "cell_type": "markdown",
   "metadata": {},
   "source": [
    "\n",
    "- ¿Cuál es el número de incidencias que se han dado de tipo \"Sistema\", lo encontraréis en la columna de categoría.\n",
    "\n",
    "- ¿Y para la categorías de \"Hardware\" y \"Software\"? Cread un dataframe nuevo con los resultados de este filtrado de datos.\n",
    "\n",
    "📌 Nota:\n",
    "\n",
    "Este ejercicio se puede resolver usando dos condiciones de filtrado o usando el método isin(). Hacedlo con ambas herramientas."
   ]
  },
  {
   "cell_type": "code",
   "execution_count": 13,
   "metadata": {},
   "outputs": [
    {
     "data": {
      "text/plain": [
       "Int64Index([    2,     3,   156,   157,   158,   159,   160,   161,   162,\n",
       "              163,\n",
       "            ...\n",
       "            13033, 13042, 13043, 13044, 13045, 13046, 13047, 13048, 13049,\n",
       "            13050],\n",
       "           dtype='int64', length=5211)"
      ]
     },
     "execution_count": 13,
     "metadata": {},
     "output_type": "execute_result"
    }
   ],
   "source": [
    "incidencias = df_pandas_2016.index[(df_pandas_2016['categoría'] == 'Sistema')]\n",
    "incidencias"
   ]
  },
  {
   "cell_type": "code",
   "execution_count": 14,
   "metadata": {},
   "outputs": [],
   "source": [
    "df_incidencias_hs = df_pandas_2016[df_pandas_2016[\"categoría\"].isin([\"Hardware\", \"Software\"] )]"
   ]
  },
  {
   "cell_type": "code",
   "execution_count": 15,
   "metadata": {},
   "outputs": [
    {
     "data": {
      "text/html": [
       "<div>\n",
       "<style scoped>\n",
       "    .dataframe tbody tr th:only-of-type {\n",
       "        vertical-align: middle;\n",
       "    }\n",
       "\n",
       "    .dataframe tbody tr th {\n",
       "        vertical-align: top;\n",
       "    }\n",
       "\n",
       "    .dataframe thead th {\n",
       "        text-align: right;\n",
       "    }\n",
       "</style>\n",
       "<table border=\"1\" class=\"dataframe\">\n",
       "  <thead>\n",
       "    <tr style=\"text-align: right;\">\n",
       "      <th></th>\n",
       "      <th>id_ticket</th>\n",
       "      <th>fecha</th>\n",
       "      <th>id_empleado</th>\n",
       "      <th>id_agente</th>\n",
       "      <th>categoría</th>\n",
       "      <th>tipo</th>\n",
       "      <th>severidad</th>\n",
       "      <th>prioridad</th>\n",
       "      <th>días_resolución</th>\n",
       "      <th>satisfacción</th>\n",
       "    </tr>\n",
       "  </thead>\n",
       "  <tbody>\n",
       "    <tr>\n",
       "      <th>4</th>\n",
       "      <td>GDLEER-0042524120</td>\n",
       "      <td>2016-06-03</td>\n",
       "      <td>1842.0</td>\n",
       "      <td>31.0</td>\n",
       "      <td>Software</td>\n",
       "      <td>Problema</td>\n",
       "      <td>2 - Normal</td>\n",
       "      <td>0 - Sin Asignar</td>\n",
       "      <td>0.0</td>\n",
       "      <td>5.0</td>\n",
       "    </tr>\n",
       "    <tr>\n",
       "      <th>5</th>\n",
       "      <td>GDLEER-0142608095</td>\n",
       "      <td>2016-08-26</td>\n",
       "      <td>59.0</td>\n",
       "      <td>20.0</td>\n",
       "      <td>Software</td>\n",
       "      <td>Problema</td>\n",
       "      <td>2 - Normal</td>\n",
       "      <td>0 - Sin Asignar</td>\n",
       "      <td>1.0</td>\n",
       "      <td>1.0</td>\n",
       "    </tr>\n",
       "    <tr>\n",
       "      <th>6</th>\n",
       "      <td>GDLEER-0242564650</td>\n",
       "      <td>2016-07-13</td>\n",
       "      <td>1175.0</td>\n",
       "      <td>36.0</td>\n",
       "      <td>Software</td>\n",
       "      <td>Problema</td>\n",
       "      <td>2 - Normal</td>\n",
       "      <td>0 - Sin Asignar</td>\n",
       "      <td>2.0</td>\n",
       "      <td>1.0</td>\n",
       "    </tr>\n",
       "    <tr>\n",
       "      <th>7</th>\n",
       "      <td>GDLEER-0542574815</td>\n",
       "      <td>2016-07-23</td>\n",
       "      <td>561.0</td>\n",
       "      <td>18.0</td>\n",
       "      <td>Software</td>\n",
       "      <td>Problema</td>\n",
       "      <td>2 - Normal</td>\n",
       "      <td>0 - Sin Asignar</td>\n",
       "      <td>5.0</td>\n",
       "      <td>5.0</td>\n",
       "    </tr>\n",
       "    <tr>\n",
       "      <th>8</th>\n",
       "      <td>GDLEER-0842457219</td>\n",
       "      <td>2016-03-28</td>\n",
       "      <td>71.0</td>\n",
       "      <td>12.0</td>\n",
       "      <td>Software</td>\n",
       "      <td>Problema</td>\n",
       "      <td>2 - Normal</td>\n",
       "      <td>0 - Sin Asignar</td>\n",
       "      <td>8.0</td>\n",
       "      <td>5.0</td>\n",
       "    </tr>\n",
       "  </tbody>\n",
       "</table>\n",
       "</div>"
      ],
      "text/plain": [
       "           id_ticket      fecha  id_empleado  id_agente categoría      tipo  \\\n",
       "4  GDLEER-0042524120 2016-06-03       1842.0       31.0  Software  Problema   \n",
       "5  GDLEER-0142608095 2016-08-26         59.0       20.0  Software  Problema   \n",
       "6  GDLEER-0242564650 2016-07-13       1175.0       36.0  Software  Problema   \n",
       "7  GDLEER-0542574815 2016-07-23        561.0       18.0  Software  Problema   \n",
       "8  GDLEER-0842457219 2016-03-28         71.0       12.0  Software  Problema   \n",
       "\n",
       "    severidad        prioridad  días_resolución  satisfacción  \n",
       "4  2 - Normal  0 - Sin Asignar              0.0           5.0  \n",
       "5  2 - Normal  0 - Sin Asignar              1.0           1.0  \n",
       "6  2 - Normal  0 - Sin Asignar              2.0           1.0  \n",
       "7  2 - Normal  0 - Sin Asignar              5.0           5.0  \n",
       "8  2 - Normal  0 - Sin Asignar              8.0           5.0  "
      ]
     },
     "execution_count": 15,
     "metadata": {},
     "output_type": "execute_result"
    }
   ],
   "source": [
    "df_incidencias_hs.head()"
   ]
  },
  {
   "attachments": {},
   "cell_type": "markdown",
   "metadata": {},
   "source": [
    "- 3.1 De los datos filtrados en el punto 3. ¿Cuántas de ellas son de tipo \"Solicitud\" y cuántas de tipo \"Problema\"?\n",
    "\n",
    "- 3.2 ¿Cuántas solicitudes tienen una satisfacción de más de 3?\n",
    "\n",
    "- 3.3 ¿Y cuántas tienen una satisfacción mayor o igual que 4 y han tardado menos de 3 días de resolución?"
   ]
  },
  {
   "cell_type": "code",
   "execution_count": 21,
   "metadata": {},
   "outputs": [
    {
     "data": {
      "text/plain": [
       "array(['Software', 'Hardware'], dtype=object)"
      ]
     },
     "execution_count": 21,
     "metadata": {},
     "output_type": "execute_result"
    }
   ],
   "source": [
    "df_incidencias_hs[\"categoría\"].unique()"
   ]
  },
  {
   "cell_type": "code",
   "execution_count": 22,
   "metadata": {},
   "outputs": [
    {
     "data": {
      "text/plain": [
       "array(['Solicitud', 'Problema'], dtype=object)"
      ]
     },
     "execution_count": 22,
     "metadata": {},
     "output_type": "execute_result"
    }
   ],
   "source": [
    "df_incidencias_hs[\"tipo\"].unique()"
   ]
  },
  {
   "cell_type": "code",
   "execution_count": 24,
   "metadata": {},
   "outputs": [
    {
     "data": {
      "text/html": [
       "<div>\n",
       "<style scoped>\n",
       "    .dataframe tbody tr th:only-of-type {\n",
       "        vertical-align: middle;\n",
       "    }\n",
       "\n",
       "    .dataframe tbody tr th {\n",
       "        vertical-align: top;\n",
       "    }\n",
       "\n",
       "    .dataframe thead th {\n",
       "        text-align: right;\n",
       "    }\n",
       "</style>\n",
       "<table border=\"1\" class=\"dataframe\">\n",
       "  <thead>\n",
       "    <tr style=\"text-align: right;\">\n",
       "      <th></th>\n",
       "      <th>id_ticket</th>\n",
       "      <th>fecha</th>\n",
       "      <th>id_empleado</th>\n",
       "      <th>id_agente</th>\n",
       "      <th>categoría</th>\n",
       "      <th>tipo</th>\n",
       "      <th>severidad</th>\n",
       "      <th>prioridad</th>\n",
       "      <th>días_resolución</th>\n",
       "      <th>satisfacción</th>\n",
       "    </tr>\n",
       "  </thead>\n",
       "  <tbody>\n",
       "    <tr>\n",
       "      <th>4</th>\n",
       "      <td>GDLEER-0042524120</td>\n",
       "      <td>2016-06-03</td>\n",
       "      <td>1842.0</td>\n",
       "      <td>31.0</td>\n",
       "      <td>Software</td>\n",
       "      <td>Solicitud</td>\n",
       "      <td>2 - Normal</td>\n",
       "      <td>0 - Sin Asignar</td>\n",
       "      <td>0.0</td>\n",
       "      <td>5.0</td>\n",
       "    </tr>\n",
       "    <tr>\n",
       "      <th>5</th>\n",
       "      <td>GDLEER-0142608095</td>\n",
       "      <td>2016-08-26</td>\n",
       "      <td>59.0</td>\n",
       "      <td>20.0</td>\n",
       "      <td>Software</td>\n",
       "      <td>Solicitud</td>\n",
       "      <td>2 - Normal</td>\n",
       "      <td>0 - Sin Asignar</td>\n",
       "      <td>1.0</td>\n",
       "      <td>1.0</td>\n",
       "    </tr>\n",
       "  </tbody>\n",
       "</table>\n",
       "</div>"
      ],
      "text/plain": [
       "           id_ticket      fecha  id_empleado  id_agente categoría       tipo  \\\n",
       "4  GDLEER-0042524120 2016-06-03       1842.0       31.0  Software  Solicitud   \n",
       "5  GDLEER-0142608095 2016-08-26         59.0       20.0  Software  Solicitud   \n",
       "\n",
       "    severidad        prioridad  días_resolución  satisfacción  \n",
       "4  2 - Normal  0 - Sin Asignar              0.0           5.0  \n",
       "5  2 - Normal  0 - Sin Asignar              1.0           1.0  "
      ]
     },
     "execution_count": 24,
     "metadata": {},
     "output_type": "execute_result"
    }
   ],
   "source": [
    "df_incidencias_sp = df_incidencias_hs[df_incidencias_hs[\"tipo\"].isin([\"Solicitud\", \"Problema\"])]\n",
    "df_incidencias_sp.head(2)"
   ]
  },
  {
   "cell_type": "code",
   "execution_count": 26,
   "metadata": {},
   "outputs": [
    {
     "data": {
      "text/plain": [
       "array(['Solicitud', 'Problema'], dtype=object)"
      ]
     },
     "execution_count": 26,
     "metadata": {},
     "output_type": "execute_result"
    }
   ],
   "source": [
    "df_incidencias_sp[\"tipo\"].unique()"
   ]
  },
  {
   "cell_type": "code",
   "execution_count": 27,
   "metadata": {},
   "outputs": [
    {
     "data": {
      "text/plain": [
       "Problema     2876\n",
       "Solicitud     970\n",
       "Name: tipo, dtype: int64"
      ]
     },
     "execution_count": 27,
     "metadata": {},
     "output_type": "execute_result"
    }
   ],
   "source": [
    "df_incidencias_sp[\"tipo\"].value_counts()"
   ]
  },
  {
   "attachments": {},
   "cell_type": "markdown",
   "metadata": {},
   "source": [
    "\n",
    "Ahora nuestro jefe quiere saber que cantidad de tickets ha habido en la segunda quincena de Enero. Cread un DataFrame nuevo con los tickets correspondientes a la segunda quincena de Enero.\n",
    "\n",
    "- 4.1 ¿Ha habido algún ticket en esta quincena que corresponda a la categoría de \"Solicitud\"?\n",
    "\n",
    "- 4.2 Revisando los datos, nuestro jefe se ha dado cuenta que hay muchos tickets que no tienen ninguna prioridad asignada. Esto no debería seguir repitiéndose ya que cada ticket debe tener una prioridad para saber que urgencia debemos darle a cada ticket. Usando el str.contains extraed los tickets que no tengan una prioridad asignada o que tengan una prioridad baja.\n",
    "\n",
    "Nuestro jefe quiere seguir buscando patrones y quiere saber si existe una relación entre el número de días que tarda en cerrarse un ticket y la satisfacción de los clientes. Para eso nos pide que:\n",
    "- 5.1 Extraigamos los tickets en lo que pasaron 5 o más días en ser solucionados.\n",
    "- 5.2 Extraigamos los tickets en los que pasaron menos de 5 días en ser solucionados.\n",
    "- 5.3 Usando como referencia los dos conjuntos de datos creados en los dos pasos anteriores:\n",
    "\n",
    "\n",
    "- 5.4 ¿Qué valores tenemos de satisfacción en cada uno de ellos?\n",
    "- 5.5 ¿En cuál de ellos hay más puntuaciones de 5 en relación a la satisfacción?\n",
    "  \n"
   ]
  },
  {
   "cell_type": "code",
   "execution_count": null,
   "metadata": {},
   "outputs": [],
   "source": []
  },
  {
   "attachments": {},
   "cell_type": "markdown",
   "metadata": {},
   "source": [
    "6. Revisando los dataframes generados en el ejercicio anterior, nos hemos dado cuenta que hay una serie de empleados que tardan demasiado en resolver los problemas planteados por los clientes. Nuestro jefe quiere extraer los datos de estos empleados en concreto para saber que esta pasando. En concreto estos empleados son aquellos que tienen los siguientes id's: 1118.0, 730.0, 97.0, 1745.0. \n",
    "- 6.1  Crea un dataframe donde solo tengamos la información de estos empleados. Usad el método isin(), para resolver este ejercicio.\n",
    "- 6.2  Utilizando la columna de fecha cread una nueva columna llamada semestre que contenga 1er semestre o 2º semestre. Aquellos tickets que pertenezcan a los seis primeros meses tendran el valor de \"1er trismestre\" y los tickets de julio en adelante tendrán el valor de \"2º semestre\".\n"
   ]
  },
  {
   "cell_type": "code",
   "execution_count": null,
   "metadata": {},
   "outputs": [],
   "source": []
  },
  {
   "attachments": {},
   "cell_type": "markdown",
   "metadata": {},
   "source": [
    "- 7 Guardad como un archivo csv nuevo. Lo usaremos en el pair programming de mañana."
   ]
  }
 ],
 "metadata": {
  "kernelspec": {
   "display_name": "Python 3",
   "language": "python",
   "name": "python3"
  },
  "language_info": {
   "codemirror_mode": {
    "name": "ipython",
    "version": 3
   },
   "file_extension": ".py",
   "mimetype": "text/x-python",
   "name": "python",
   "nbconvert_exporter": "python",
   "pygments_lexer": "ipython3",
   "version": "3.9.7"
  },
  "orig_nbformat": 4
 },
 "nbformat": 4,
 "nbformat_minor": 2
}
