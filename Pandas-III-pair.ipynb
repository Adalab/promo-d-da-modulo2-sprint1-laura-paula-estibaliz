{
 "cells": [
  {
   "attachments": {},
   "cell_type": "markdown",
   "metadata": {},
   "source": [
    "# Pair Programming Pandas III\n",
    "\n",
    "# Métodos Pandas\n",
    "\n",
    "De aquí en adelante, vamos a trabajar con una serie de dataframes donde tenemos información sobre una empresa que se decica a la atención al cliente para resolver problemas con los sistemas. Esta empresa se dedica a brindar soluciones de software y hardware para usuarios que experimentan problemas técnicos en sus dispositivos electrónicos, ya sea en computadoras, laptops, teléfonos móviles u otros dispositivos.\n",
    "\n",
    "Ofrecen servicios de reparación, diagnóstico, instalación y configuración de software y hardware, con el objetivo de ayudar a los clientes a resolver sus problemas técnicos y mejorar el rendimiento de sus dispositivos.\n",
    "\n",
    "Esta empresa utiliza un sistema de tickets para atender los problemas de software y hardware de sus clientes. Los usuarios pueden presentar una solicitud de soporte a través del sistema de tickets y recibir una respuesta rápida y efectiva por parte de un equipo de técnicos especializados. El sistema de tickets permite a la empresa mantener un registro detallado de todas las solicitudes y su estado actual, lo que facilita el seguimiento y la resolución de los problemas en tiempo y forma. Además, la empresa puede usar los datos recopilados para identificar patrones y tendencias comunes en los problemas y mejorar continuamente sus servicios y procesos.\n",
    "\n",
    "En concreto en este pair programming os hemos compartido 4 ficheros, estos son:\n",
    "\n",
    "- Puestos.xlsx: este conjunto de datos contiene información sobre los puestos de trabajo disponibles en la empresa. Cada fila corresponde a un puesto y tiene información como su ID, nombre, departamento y tipo. La información sobre los departamentos y los tipos de puesto puede ayudar a la empresa a clasificar y organizar los puestos en función de su función y nivel de responsabilidad. \n",
    "Se pueden utilizar para llevar un registro de los puestos disponibles, sus descripciones y los requisitos necesarios para cada puesto. La información sobre los puestos también puede ser útil para la empresa para la planificación de la fuerza laboral, la evaluación del desempeño y la asignación de tareas. Además, los datos sobre los puestos pueden ser útiles para los empleados que buscan información sobre las oportunidades de trabajo y las descripciones de trabajo en la empresa.\n",
    "\n",
    "- Empleados.csv: este conjunto de datos contiene información sobre los empleados de la empresa y sus turnos de trabajo. Cada fila corresponde a un empleado y tiene información como su ID, apellido, nombre, ID de puesto y correo electrónico. Estos datos se pueden utilizar para llevar un registro de los empleados, sus datos personales, su información de contacto y sus horarios de trabajo. \n",
    "La información sobre los turnos puede ayudar a la empresa a administrar y coordinar al personal de manera efectiva, asegurando una cobertura adecuada durante las horas de trabajo. Además, la información sobre los turnos puede ser útil para calcular las horas trabajadas por cada empleado y para la generación de nóminas.\n",
    "\n",
    "\n",
    "- Agentes.csv: este conjunto de datos contiene información de los agentes de soporte técnico de la empresa. Cada fila corresponde a un agente y tiene información como el ID del agente, el nombre completo del agente, su correo electrónico y su fecha de nacimiento. Los utilizaremos para llevar un registro detallado de los agentes de soporte técnico, sus datos personales y su información de contacto. La empresa nos puede perdir como analistas de datos que administremos y coordinemos al equipo de soporte técnico, así como para realizar análisis estadísticos sobre el equipo de trabajo y sus características personales.\n",
    "\n",
    "\n",
    "- 2016.xlsx: este conjunto de datos contiene información de tickets de soporte técnico de la empresa. Cada fila corresponde a un ticket y tiene información como el ID del ticket, la fecha de creación, el ID del empleado y del agente, la categoría y el tipo de problema reportado, la severidad y prioridad del problema, el tiempo que tardó en resolverse el ticket, el nivel de satisfacción del cliente, la plataforma web donde se reportó el problema y un índice. Estos datos se pueden utilizar para analizar el desempeño del equipo de soporte técnico de la empresa, identificar problemas comunes, medir la satisfacción del cliente y mejorar los procesos de soporte técnico.\n",
    "\n",
    "\n",
    "## Tareas a realizar en este pair programming\n",
    "\n",
    "\n",
    "La exploración de datos es una parte crítica del proceso de análisis de datos. Para los analistas de datos, hacer una exploración de datos con Pandas es importante por varias razones:\n",
    "\n",
    "- Comprender los datos: antes de comenzar a analizar datos, es importante comprender los datos con los que se está trabajando.\n",
    "- Identificar problemas de calidad de datos: los datos pueden contener errores, valores faltantes o datos duplicados. Al utilizar Pandas, como analistas de datos podemos identificar rápidamente estos problemas y determinar la mejor manera de abordarlos antes de comenzar a analizar los datos.\n",
    "- Identificar patrones y tendencias: al explorar los datos con Pandas, los analistas de datos podemos identificar patrones y tendencias en los datos que pueden ayudar a generar ideas y obtener información valiosa.\n",
    "\n",
    "\n",
    "En resumen, hacer una exploración de datos con Pandas es esencial para cualquier analista de datos, ya que puede ayudar a comprender los datos, identificar problemas de calidad de datos, identificar patrones y tendencias y visualizar los datos para una mejor comprensión y presentación de los resultados del análisis. En los próximos pair programmings vamos a empezar a explorar los datos para identificar posibles problemas en los datos, comprender los datos y familiarizanos con ellos.\n"
   ]
  },
  {
   "cell_type": "code",
   "execution_count": 1,
   "metadata": {},
   "outputs": [],
   "source": [
    "import pandas as pd\n",
    "import numpy as np\n",
    "import pickle\n",
    "import os"
   ]
  },
  {
   "cell_type": "code",
   "execution_count": 2,
   "metadata": {},
   "outputs": [],
   "source": [
    "df_agentes = pd.read_csv(\"../archivos/Agentes.csv\", encoding= \"ISO-8859-1\") \n"
   ]
  },
  {
   "cell_type": "code",
   "execution_count": null,
   "metadata": {},
   "outputs": [],
   "source": [
    "df_empleados = pd.read_csv(\"../archivos/Empleados.csv\", encoding= \"ISO-8859-1\") \n",
    "df_empleados.head()"
   ]
  },
  {
   "cell_type": "code",
   "execution_count": 9,
   "metadata": {},
   "outputs": [
    {
     "data": {
      "text/html": [
       "<div>\n",
       "<style scoped>\n",
       "    .dataframe tbody tr th:only-of-type {\n",
       "        vertical-align: middle;\n",
       "    }\n",
       "\n",
       "    .dataframe tbody tr th {\n",
       "        vertical-align: top;\n",
       "    }\n",
       "\n",
       "    .dataframe thead th {\n",
       "        text-align: right;\n",
       "    }\n",
       "</style>\n",
       "<table border=\"1\" class=\"dataframe\">\n",
       "  <thead>\n",
       "    <tr style=\"text-align: right;\">\n",
       "      <th></th>\n",
       "      <th>ID Ticket</th>\n",
       "      <th>Fecha</th>\n",
       "      <th>ID Empleado</th>\n",
       "      <th>ID Agente</th>\n",
       "      <th>Categoría</th>\n",
       "      <th>Tipo</th>\n",
       "      <th>Severidad</th>\n",
       "      <th>Prioridad</th>\n",
       "      <th>Días Resolución</th>\n",
       "      <th>Satisfacción</th>\n",
       "      <th>Web</th>\n",
       "      <th>Índice</th>\n",
       "    </tr>\n",
       "  </thead>\n",
       "  <tbody>\n",
       "    <tr>\n",
       "      <th>0</th>\n",
       "      <td>GDDENR-5042564453</td>\n",
       "      <td>2016-07-13</td>\n",
       "      <td>1735.0</td>\n",
       "      <td>4.0</td>\n",
       "      <td>Acceso&amp;%Login</td>\n",
       "      <td>Problema</td>\n",
       "      <td>0 - Sin Clasificar</td>\n",
       "      <td>0 - Sin Asignar</td>\n",
       "      <td>0.0</td>\n",
       "      <td>5.0</td>\n",
       "      <td>www.tractchun.es</td>\n",
       "      <td>1.0</td>\n",
       "    </tr>\n",
       "    <tr>\n",
       "      <th>1</th>\n",
       "      <td>GDDENR-8042508060</td>\n",
       "      <td>2016-05-18</td>\n",
       "      <td>1566.0</td>\n",
       "      <td>10.0</td>\n",
       "      <td>Acceso&amp;%Login</td>\n",
       "      <td>Problema</td>\n",
       "      <td>0 - Sin Clasificar</td>\n",
       "      <td>0 - Sin Asignar</td>\n",
       "      <td>0.0</td>\n",
       "      <td>5.0</td>\n",
       "      <td>www.tractchun.es</td>\n",
       "      <td>1.0</td>\n",
       "    </tr>\n",
       "    <tr>\n",
       "      <th>2</th>\n",
       "      <td>GDDESR-1342539995</td>\n",
       "      <td>2016-06-18</td>\n",
       "      <td>569.0</td>\n",
       "      <td>29.0</td>\n",
       "      <td>Sistema</td>\n",
       "      <td>Problema</td>\n",
       "      <td>0 - Sin Clasificar</td>\n",
       "      <td>0 - Sin Asignar</td>\n",
       "      <td>3.0</td>\n",
       "      <td>5.0</td>\n",
       "      <td>www.tractchun.es</td>\n",
       "      <td>1.0</td>\n",
       "    </tr>\n",
       "    <tr>\n",
       "      <th>3</th>\n",
       "      <td>GDDTSR-5942488006</td>\n",
       "      <td>2016-04-28</td>\n",
       "      <td>320.0</td>\n",
       "      <td>40.0</td>\n",
       "      <td>Sistema</td>\n",
       "      <td>Solicitud</td>\n",
       "      <td>0 - Sin Clasificar</td>\n",
       "      <td>0 - Sin Asignar</td>\n",
       "      <td>9.0</td>\n",
       "      <td>5.0</td>\n",
       "      <td>www.tractchun.es</td>\n",
       "      <td>1.0</td>\n",
       "    </tr>\n",
       "    <tr>\n",
       "      <th>4</th>\n",
       "      <td>GDLEER-0042524120</td>\n",
       "      <td>2016-06-03</td>\n",
       "      <td>1842.0</td>\n",
       "      <td>31.0</td>\n",
       "      <td>Software</td>\n",
       "      <td>Problema</td>\n",
       "      <td>2 - Normal</td>\n",
       "      <td>0 - Sin Asignar</td>\n",
       "      <td>0.0</td>\n",
       "      <td>5.0</td>\n",
       "      <td>www.tractchun.es</td>\n",
       "      <td>1.0</td>\n",
       "    </tr>\n",
       "  </tbody>\n",
       "</table>\n",
       "</div>"
      ],
      "text/plain": [
       "           ID Ticket      Fecha  ID Empleado  ID Agente      Categoría  \\\n",
       "0  GDDENR-5042564453 2016-07-13       1735.0        4.0  Acceso&%Login   \n",
       "1  GDDENR-8042508060 2016-05-18       1566.0       10.0  Acceso&%Login   \n",
       "2  GDDESR-1342539995 2016-06-18        569.0       29.0        Sistema   \n",
       "3  GDDTSR-5942488006 2016-04-28        320.0       40.0        Sistema   \n",
       "4  GDLEER-0042524120 2016-06-03       1842.0       31.0       Software   \n",
       "\n",
       "        Tipo           Severidad        Prioridad  Días Resolución  \\\n",
       "0   Problema  0 - Sin Clasificar  0 - Sin Asignar              0.0   \n",
       "1   Problema  0 - Sin Clasificar  0 - Sin Asignar              0.0   \n",
       "2   Problema  0 - Sin Clasificar  0 - Sin Asignar              3.0   \n",
       "3  Solicitud  0 - Sin Clasificar  0 - Sin Asignar              9.0   \n",
       "4   Problema          2 - Normal  0 - Sin Asignar              0.0   \n",
       "\n",
       "   Satisfacción               Web  Índice   \n",
       "0           5.0  www.tractchun.es      1.0  \n",
       "1           5.0  www.tractchun.es      1.0  \n",
       "2           5.0  www.tractchun.es      1.0  \n",
       "3           5.0  www.tractchun.es      1.0  \n",
       "4           5.0  www.tractchun.es      1.0  "
      ]
     },
     "execution_count": 9,
     "metadata": {},
     "output_type": "execute_result"
    }
   ],
   "source": [
    "df_2016 = pd.read_excel(\"../archivos/2016.xlsx\") \n",
    "df_2016.head()"
   ]
  },
  {
   "attachments": {},
   "cell_type": "markdown",
   "metadata": {},
   "source": [
    "\n",
    "\n",
    "### Cargar todos los datasets que os hemos compartido en este pair programming\n",
    "\n",
    "Haced una exploración básica cada uno de los DataFrames, esta exploración debe incluir:\n",
    "- ¿Cuántas filas y columnas tiene el DataFrame?\n",
    "- Mostrad las primeras cinco filas y las últimas cinco filas del DataFrame.\n",
    "- Mostrad 2 filas al azar del DataFrame.\n",
    "- ¿Cuál es el nombre de las columnas del DataFrame?\n",
    "- ¿Cuáles son los principales estádisticos del DataFrame? Mostrad por separado las variables categóricas y las variables numéricas.\n",
    "- ¿Cuál es el porcentaje de valores nulos en cada columna?\n",
    "- ¿Cuántos valores únicos tenemos para cada una de las columnas?\n"
   ]
  },
  {
   "cell_type": "code",
   "execution_count": null,
   "metadata": {},
   "outputs": [],
   "source": [
    "# df_2016['Web'].unique()\n",
    "# df_2016['Web'].value_counts()\n"
   ]
  },
  {
   "cell_type": "code",
   "execution_count": null,
   "metadata": {},
   "outputs": [],
   "source": [
    "#for i in df_agentes.columns:\n",
    "    #print(i)"
   ]
  },
  {
   "attachments": {},
   "cell_type": "markdown",
   "metadata": {},
   "source": [
    "\n",
    "- De aquellas columnas que tengan menos de 6 elementos únicos mostrad cada uno de sus valores únicos.\n",
    "\n",
    "📌 NOTA Fijaos que vamos a hacer lo mismo para cada archivo que tenemos. Una buena práctica sería crearnos una función que apliquemos a cada conjunto de datos. Nuestra función recibirá un parámetro, que será el dataframe entero\n",
    "\n",
    "📌 NOTA Nos estamos convirtiendo en analistas de datos y no nos debe valer solo con escribir el código, os recomendamos que reviseis bien los resultados y empezais a extraer algunas conclusiones. ¿Hay datos raros en nuestros conjuntos de datos? ¿Tenemos nulos?, etc.\n"
   ]
  },
  {
   "cell_type": "code",
   "execution_count": 6,
   "metadata": {},
   "outputs": [],
   "source": [
    "def datos_dataframe(df):\n",
    "\n",
    "    print(f\"El dataframe {df} tiene {df.shape[0]} filas y {df.shape[1]} columnas\")  \n",
    "    print(\"----------------\")\n",
    "    print(df.head(7))\n",
    "    print(\"----------------\")\n",
    "    print(df.tail(5))\n",
    "    print(\"----------------\")\n",
    "    print(df.sample(2))\n",
    "    print(\"----------------\")\n",
    "\n",
    "    columnas = [df.columns[num] for num in range(len(df.columns))]\n",
    "\n",
    "    print(f\"Las columnas son {columnas}\")\n",
    "    print(\"----------------\")\n",
    "\n",
    "    print(f\"Los estadísticos numéricos son {df}:\")\n",
    "    print(df.describe)\n",
    "    print(f\"Los estadísticos categóricos son {df}:\")\n",
    "    print(df.describe(include = \"object\"))\n",
    "    print(\"----------------\")\n",
    "        \n",
    "    print(\"Los porcentajes de valores nulos por cada columna son:\")\n",
    "    print(df.isnull().sum() * 100/df.shape[0])\n",
    "    print(\"----------------\")\n",
    "\n",
    "    v_unicos = [len(df[col].value_counts()) for col in columnas]\n",
    "\n",
    "    v_unicos_columna = list(zip(columnas, v_unicos))\n",
    "\n",
    "    print(f\"Los valores únicos por cada columna son: {v_unicos}\")\n",
    "          \n",
    "    print(v_unicos_columna)\n",
    "    print(\"---\")\n",
    "\n",
    "    #revisar"
   ]
  },
  {
   "cell_type": "code",
   "execution_count": 12,
   "metadata": {},
   "outputs": [
    {
     "data": {
      "text/plain": [
       "50"
      ]
     },
     "execution_count": 12,
     "metadata": {},
     "output_type": "execute_result"
    }
   ],
   "source": [
    "df_agentes.shape[0]"
   ]
  },
  {
   "cell_type": "markdown",
   "metadata": {},
   "source": [
    "\n",
    "\n",
    "Modificaciones básicas de los conjuntos de datos:\n",
    "\n",
    "- Cambiad el nombre de las columnas para que todas estén en minúsculas y reemplazad los espacios por _.\n",
    "\n",
    "- Para las columnas de web e índice en el archovo de 2016.xlsx ya hemos visto que tiene un único valor único, lo cual no tiene mucho sentido ya que no nos aporta información útil. En este ejercicios tendréis que eliminar dichas columnas del dataframe.\n",
    "\n",
    "- Establece la columna id_ticket de la tabla de 2016.xlsx como índice del DataFrame.\n",
    "\n",
    "- Guarda los csv's sobre los que hayáis hecho cambios para usarlos en próximos pairs ."
   ]
  },
  {
   "cell_type": "code",
   "execution_count": null,
   "metadata": {},
   "outputs": [],
   "source": []
  }
 ],
 "metadata": {
  "kernelspec": {
   "display_name": "Python 3",
   "language": "python",
   "name": "python3"
  },
  "language_info": {
   "codemirror_mode": {
    "name": "ipython",
    "version": 3
   },
   "file_extension": ".py",
   "mimetype": "text/x-python",
   "name": "python",
   "nbconvert_exporter": "python",
   "pygments_lexer": "ipython3",
   "version": "3.10.9"
  },
  "orig_nbformat": 4
 },
 "nbformat": 4,
 "nbformat_minor": 2
}
