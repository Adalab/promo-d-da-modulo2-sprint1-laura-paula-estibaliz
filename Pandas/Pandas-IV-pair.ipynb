{
 "cells": [
  {
   "attachments": {},
   "cell_type": "markdown",
   "metadata": {},
   "source": [
    "# Pair Programming Pandas IV\n",
    "\n",
    "Los objetivos de la clase de hoy son:\n",
    "\n",
    "\n",
    "Cargad el csv que guardasteis ayer.\n",
    "\n",
    "Antes de seguir con las preguntas, para evitar posibles errores con los nulos vamos a eliminar todos los nulos del DataFrame, esto lo haremos sobre el archivo de 2016.xlsx. \n",
    "\n",
    "Para ello vamos a utilizar el método .dropna() de Pandas. Tendréis que ejecutar la siguiente línea de código para eliminar los nulos del DataFrame y poder seguir haciendo el resto de los ejercicios.\n",
    "\n",
    "df.dropna(inplace = True)\n",
    "\n",
    "1. ¿Cuántas filas se han eliminado con esta línea de código?\n"
   ]
  },
  {
   "cell_type": "code",
   "execution_count": 28,
   "metadata": {},
   "outputs": [],
   "source": [
    "import pandas as pd\n",
    "import numpy as np\n",
    "import pickle\n",
    "import os"
   ]
  },
  {
   "cell_type": "code",
   "execution_count": 29,
   "metadata": {},
   "outputs": [],
   "source": [
    "df_pandas_2016 = pd.read_excel(\"../archivos/2016_pandasIII.xlsx\") "
   ]
  },
  {
   "cell_type": "code",
   "execution_count": 30,
   "metadata": {},
   "outputs": [
    {
     "data": {
      "text/plain": [
       "id_ticket          13050\n",
       "fecha              13025\n",
       "id_empleado        13049\n",
       "id_agente          13050\n",
       "categoría          13038\n",
       "tipo               13050\n",
       "severidad          13025\n",
       "prioridad          13025\n",
       "días_resolución    13049\n",
       "satisfacción       13037\n",
       "dtype: int64"
      ]
     },
     "execution_count": 30,
     "metadata": {},
     "output_type": "execute_result"
    }
   ],
   "source": [
    "df_pandas_2016.count(axis = 0)"
   ]
  },
  {
   "cell_type": "code",
   "execution_count": 31,
   "metadata": {},
   "outputs": [
    {
     "name": "stdout",
     "output_type": "stream",
     "text": [
      "id_ticket           1\n",
      "fecha              26\n",
      "id_empleado         2\n",
      "id_agente           1\n",
      "categoría          13\n",
      "tipo                1\n",
      "severidad          26\n",
      "prioridad          26\n",
      "días_resolución     2\n",
      "satisfacción       14\n",
      "dtype: int64\n"
     ]
    },
    {
     "data": {
      "text/plain": [
       "'Se deberían eliminar 112 filas.'"
      ]
     },
     "execution_count": 31,
     "metadata": {},
     "output_type": "execute_result"
    }
   ],
   "source": [
    "nulos_sum = df_pandas_2016.isnull().sum()\n",
    "print(nulos_sum)\n",
    "f'Se deberían eliminar {nulos_sum.sum()} filas.'"
   ]
  },
  {
   "cell_type": "code",
   "execution_count": 32,
   "metadata": {},
   "outputs": [],
   "source": [
    "df_pandas_2016.dropna(inplace = True)"
   ]
  },
  {
   "attachments": {},
   "cell_type": "markdown",
   "metadata": {},
   "source": [
    "\n",
    "- ¿Cuál es el número de incidencias que se han dado de tipo \"Sistema\", lo encontraréis en la columna de categoría.\n",
    "\n",
    "- ¿Y para la categorías de \"Hardware\" y \"Software\"? Cread un dataframe nuevo con los resultados de este filtrado de datos.\n",
    "\n",
    "📌 Nota:\n",
    "\n",
    "Este ejercicio se puede resolver usando dos condiciones de filtrado o usando el método isin(). Hacedlo con ambas herramientas."
   ]
  },
  {
   "cell_type": "code",
   "execution_count": 33,
   "metadata": {},
   "outputs": [
    {
     "data": {
      "text/plain": [
       "Int64Index([    2,     3,   156,   157,   158,   159,   160,   161,   162,\n",
       "              163,\n",
       "            ...\n",
       "            13033, 13042, 13043, 13044, 13045, 13046, 13047, 13048, 13049,\n",
       "            13050],\n",
       "           dtype='int64', length=5211)"
      ]
     },
     "execution_count": 33,
     "metadata": {},
     "output_type": "execute_result"
    }
   ],
   "source": [
    "incidencias = df_pandas_2016.index[(df_pandas_2016['categoría'] == 'Sistema')]\n",
    "incidencias"
   ]
  },
  {
   "cell_type": "code",
   "execution_count": 34,
   "metadata": {},
   "outputs": [],
   "source": [
    "df_incidencias_hs = df_pandas_2016[df_pandas_2016[\"categoría\"].isin([\"Hardware\", \"Software\"] )]"
   ]
  },
  {
   "cell_type": "code",
   "execution_count": 35,
   "metadata": {},
   "outputs": [
    {
     "data": {
      "text/html": [
       "<div>\n",
       "<style scoped>\n",
       "    .dataframe tbody tr th:only-of-type {\n",
       "        vertical-align: middle;\n",
       "    }\n",
       "\n",
       "    .dataframe tbody tr th {\n",
       "        vertical-align: top;\n",
       "    }\n",
       "\n",
       "    .dataframe thead th {\n",
       "        text-align: right;\n",
       "    }\n",
       "</style>\n",
       "<table border=\"1\" class=\"dataframe\">\n",
       "  <thead>\n",
       "    <tr style=\"text-align: right;\">\n",
       "      <th></th>\n",
       "      <th>id_ticket</th>\n",
       "      <th>fecha</th>\n",
       "      <th>id_empleado</th>\n",
       "      <th>id_agente</th>\n",
       "      <th>categoría</th>\n",
       "      <th>tipo</th>\n",
       "      <th>severidad</th>\n",
       "      <th>prioridad</th>\n",
       "      <th>días_resolución</th>\n",
       "      <th>satisfacción</th>\n",
       "    </tr>\n",
       "  </thead>\n",
       "  <tbody>\n",
       "    <tr>\n",
       "      <th>4</th>\n",
       "      <td>GDLEER-0042524120</td>\n",
       "      <td>2016-06-03</td>\n",
       "      <td>1842.0</td>\n",
       "      <td>31.0</td>\n",
       "      <td>Software</td>\n",
       "      <td>Problema</td>\n",
       "      <td>2 - Normal</td>\n",
       "      <td>0 - Sin Asignar</td>\n",
       "      <td>0.0</td>\n",
       "      <td>5.0</td>\n",
       "    </tr>\n",
       "    <tr>\n",
       "      <th>5</th>\n",
       "      <td>GDLEER-0142608095</td>\n",
       "      <td>2016-08-26</td>\n",
       "      <td>59.0</td>\n",
       "      <td>20.0</td>\n",
       "      <td>Software</td>\n",
       "      <td>Problema</td>\n",
       "      <td>2 - Normal</td>\n",
       "      <td>0 - Sin Asignar</td>\n",
       "      <td>1.0</td>\n",
       "      <td>1.0</td>\n",
       "    </tr>\n",
       "    <tr>\n",
       "      <th>6</th>\n",
       "      <td>GDLEER-0242564650</td>\n",
       "      <td>2016-07-13</td>\n",
       "      <td>1175.0</td>\n",
       "      <td>36.0</td>\n",
       "      <td>Software</td>\n",
       "      <td>Problema</td>\n",
       "      <td>2 - Normal</td>\n",
       "      <td>0 - Sin Asignar</td>\n",
       "      <td>2.0</td>\n",
       "      <td>1.0</td>\n",
       "    </tr>\n",
       "    <tr>\n",
       "      <th>7</th>\n",
       "      <td>GDLEER-0542574815</td>\n",
       "      <td>2016-07-23</td>\n",
       "      <td>561.0</td>\n",
       "      <td>18.0</td>\n",
       "      <td>Software</td>\n",
       "      <td>Problema</td>\n",
       "      <td>2 - Normal</td>\n",
       "      <td>0 - Sin Asignar</td>\n",
       "      <td>5.0</td>\n",
       "      <td>5.0</td>\n",
       "    </tr>\n",
       "    <tr>\n",
       "      <th>8</th>\n",
       "      <td>GDLEER-0842457219</td>\n",
       "      <td>2016-03-28</td>\n",
       "      <td>71.0</td>\n",
       "      <td>12.0</td>\n",
       "      <td>Software</td>\n",
       "      <td>Problema</td>\n",
       "      <td>2 - Normal</td>\n",
       "      <td>0 - Sin Asignar</td>\n",
       "      <td>8.0</td>\n",
       "      <td>5.0</td>\n",
       "    </tr>\n",
       "  </tbody>\n",
       "</table>\n",
       "</div>"
      ],
      "text/plain": [
       "           id_ticket      fecha  id_empleado  id_agente categoría      tipo  \\\n",
       "4  GDLEER-0042524120 2016-06-03       1842.0       31.0  Software  Problema   \n",
       "5  GDLEER-0142608095 2016-08-26         59.0       20.0  Software  Problema   \n",
       "6  GDLEER-0242564650 2016-07-13       1175.0       36.0  Software  Problema   \n",
       "7  GDLEER-0542574815 2016-07-23        561.0       18.0  Software  Problema   \n",
       "8  GDLEER-0842457219 2016-03-28         71.0       12.0  Software  Problema   \n",
       "\n",
       "    severidad        prioridad  días_resolución  satisfacción  \n",
       "4  2 - Normal  0 - Sin Asignar              0.0           5.0  \n",
       "5  2 - Normal  0 - Sin Asignar              1.0           1.0  \n",
       "6  2 - Normal  0 - Sin Asignar              2.0           1.0  \n",
       "7  2 - Normal  0 - Sin Asignar              5.0           5.0  \n",
       "8  2 - Normal  0 - Sin Asignar              8.0           5.0  "
      ]
     },
     "execution_count": 35,
     "metadata": {},
     "output_type": "execute_result"
    }
   ],
   "source": [
    "df_incidencias_hs.head()"
   ]
  },
  {
   "attachments": {},
   "cell_type": "markdown",
   "metadata": {},
   "source": [
    "- 3.1 De los datos filtrados en el punto 3. ¿Cuántas de ellas son de tipo \"Solicitud\" y cuántas de tipo \"Problema\"?\n",
    "\n",
    "- 3.2 ¿Cuántas solicitudes tienen una satisfacción de más de 3?\n",
    "\n",
    "- 3.3 ¿Y cuántas tienen una satisfacción mayor o igual que 4 y han tardado menos de 3 días de resolución?"
   ]
  },
  {
   "cell_type": "code",
   "execution_count": 36,
   "metadata": {},
   "outputs": [
    {
     "data": {
      "text/plain": [
       "array(['Software', 'Hardware'], dtype=object)"
      ]
     },
     "execution_count": 36,
     "metadata": {},
     "output_type": "execute_result"
    }
   ],
   "source": [
    "df_incidencias_hs[\"categoría\"].unique()"
   ]
  },
  {
   "cell_type": "code",
   "execution_count": 37,
   "metadata": {},
   "outputs": [
    {
     "data": {
      "text/plain": [
       "array(['Problema', 'Solicitud'], dtype=object)"
      ]
     },
     "execution_count": 37,
     "metadata": {},
     "output_type": "execute_result"
    }
   ],
   "source": [
    "df_incidencias_hs[\"tipo\"].unique()"
   ]
  },
  {
   "cell_type": "code",
   "execution_count": 38,
   "metadata": {},
   "outputs": [
    {
     "data": {
      "text/html": [
       "<div>\n",
       "<style scoped>\n",
       "    .dataframe tbody tr th:only-of-type {\n",
       "        vertical-align: middle;\n",
       "    }\n",
       "\n",
       "    .dataframe tbody tr th {\n",
       "        vertical-align: top;\n",
       "    }\n",
       "\n",
       "    .dataframe thead th {\n",
       "        text-align: right;\n",
       "    }\n",
       "</style>\n",
       "<table border=\"1\" class=\"dataframe\">\n",
       "  <thead>\n",
       "    <tr style=\"text-align: right;\">\n",
       "      <th></th>\n",
       "      <th>id_ticket</th>\n",
       "      <th>fecha</th>\n",
       "      <th>id_empleado</th>\n",
       "      <th>id_agente</th>\n",
       "      <th>categoría</th>\n",
       "      <th>tipo</th>\n",
       "      <th>severidad</th>\n",
       "      <th>prioridad</th>\n",
       "      <th>días_resolución</th>\n",
       "      <th>satisfacción</th>\n",
       "    </tr>\n",
       "  </thead>\n",
       "  <tbody>\n",
       "    <tr>\n",
       "      <th>4</th>\n",
       "      <td>GDLEER-0042524120</td>\n",
       "      <td>2016-06-03</td>\n",
       "      <td>1842.0</td>\n",
       "      <td>31.0</td>\n",
       "      <td>Software</td>\n",
       "      <td>Problema</td>\n",
       "      <td>2 - Normal</td>\n",
       "      <td>0 - Sin Asignar</td>\n",
       "      <td>0.0</td>\n",
       "      <td>5.0</td>\n",
       "    </tr>\n",
       "    <tr>\n",
       "      <th>5</th>\n",
       "      <td>GDLEER-0142608095</td>\n",
       "      <td>2016-08-26</td>\n",
       "      <td>59.0</td>\n",
       "      <td>20.0</td>\n",
       "      <td>Software</td>\n",
       "      <td>Problema</td>\n",
       "      <td>2 - Normal</td>\n",
       "      <td>0 - Sin Asignar</td>\n",
       "      <td>1.0</td>\n",
       "      <td>1.0</td>\n",
       "    </tr>\n",
       "  </tbody>\n",
       "</table>\n",
       "</div>"
      ],
      "text/plain": [
       "           id_ticket      fecha  id_empleado  id_agente categoría      tipo  \\\n",
       "4  GDLEER-0042524120 2016-06-03       1842.0       31.0  Software  Problema   \n",
       "5  GDLEER-0142608095 2016-08-26         59.0       20.0  Software  Problema   \n",
       "\n",
       "    severidad        prioridad  días_resolución  satisfacción  \n",
       "4  2 - Normal  0 - Sin Asignar              0.0           5.0  \n",
       "5  2 - Normal  0 - Sin Asignar              1.0           1.0  "
      ]
     },
     "execution_count": 38,
     "metadata": {},
     "output_type": "execute_result"
    }
   ],
   "source": [
    "df_incidencias_sp = df_incidencias_hs[df_incidencias_hs[\"tipo\"].isin([\"Solicitud\", \"Problema\"])]\n",
    "df_incidencias_sp.head(2)"
   ]
  },
  {
   "cell_type": "code",
   "execution_count": 39,
   "metadata": {},
   "outputs": [
    {
     "data": {
      "text/plain": [
       "array(['Problema', 'Solicitud'], dtype=object)"
      ]
     },
     "execution_count": 39,
     "metadata": {},
     "output_type": "execute_result"
    }
   ],
   "source": [
    "df_incidencias_sp[\"tipo\"].unique()"
   ]
  },
  {
   "cell_type": "code",
   "execution_count": 40,
   "metadata": {},
   "outputs": [
    {
     "data": {
      "text/plain": [
       "Solicitud    2876\n",
       "Problema      970\n",
       "Name: tipo, dtype: int64"
      ]
     },
     "execution_count": 40,
     "metadata": {},
     "output_type": "execute_result"
    }
   ],
   "source": [
    "df_incidencias_sp[\"tipo\"].value_counts()"
   ]
  },
  {
   "attachments": {},
   "cell_type": "markdown",
   "metadata": {},
   "source": [
    "Ahora nuestro jefe quiere saber que cantidad de tickets ha habido en la segunda quincena de Enero. Cread un DataFrame nuevo con los tickets correspondientes a la segunda quincena de Enero.\n",
    "\n",
    "- 4.1 ¿Ha habido algún ticket en esta quincena que corresponda a la categoría de \"Solicitud\"?\n"
   ]
  },
  {
   "cell_type": "code",
   "execution_count": 41,
   "metadata": {},
   "outputs": [
    {
     "data": {
      "text/html": [
       "<div>\n",
       "<style scoped>\n",
       "    .dataframe tbody tr th:only-of-type {\n",
       "        vertical-align: middle;\n",
       "    }\n",
       "\n",
       "    .dataframe tbody tr th {\n",
       "        vertical-align: top;\n",
       "    }\n",
       "\n",
       "    .dataframe thead th {\n",
       "        text-align: right;\n",
       "    }\n",
       "</style>\n",
       "<table border=\"1\" class=\"dataframe\">\n",
       "  <thead>\n",
       "    <tr style=\"text-align: right;\">\n",
       "      <th></th>\n",
       "      <th>id_ticket</th>\n",
       "      <th>fecha</th>\n",
       "      <th>id_empleado</th>\n",
       "      <th>id_agente</th>\n",
       "      <th>categoría</th>\n",
       "      <th>tipo</th>\n",
       "      <th>severidad</th>\n",
       "      <th>prioridad</th>\n",
       "      <th>días_resolución</th>\n",
       "      <th>satisfacción</th>\n",
       "    </tr>\n",
       "  </thead>\n",
       "  <tbody>\n",
       "    <tr>\n",
       "      <th>12</th>\n",
       "      <td>GDLEER-2142385152</td>\n",
       "      <td>2016-01-16</td>\n",
       "      <td>1825.0</td>\n",
       "      <td>31.0</td>\n",
       "      <td>Software</td>\n",
       "      <td>Problema</td>\n",
       "      <td>2 - Normal</td>\n",
       "      <td>0 - Sin Asignar</td>\n",
       "      <td>1.0</td>\n",
       "      <td>5.0</td>\n",
       "    </tr>\n",
       "    <tr>\n",
       "      <th>65</th>\n",
       "      <td>GDLEET-8142386963</td>\n",
       "      <td>2016-01-17</td>\n",
       "      <td>376.0</td>\n",
       "      <td>39.0</td>\n",
       "      <td>Software</td>\n",
       "      <td>Problema</td>\n",
       "      <td>2 - Normal</td>\n",
       "      <td>0 - Sin Asignar</td>\n",
       "      <td>1.0</td>\n",
       "      <td>5.0</td>\n",
       "    </tr>\n",
       "    <tr>\n",
       "      <th>68</th>\n",
       "      <td>GDLEET-8942397489</td>\n",
       "      <td>2016-01-28</td>\n",
       "      <td>488.0</td>\n",
       "      <td>14.0</td>\n",
       "      <td>Hardware</td>\n",
       "      <td>Problema</td>\n",
       "      <td>2 - Normal</td>\n",
       "      <td>0 - Sin Asignar</td>\n",
       "      <td>9.0</td>\n",
       "      <td>5.0</td>\n",
       "    </tr>\n",
       "    <tr>\n",
       "      <th>70</th>\n",
       "      <td>GDLEET-9342397848</td>\n",
       "      <td>2016-01-28</td>\n",
       "      <td>104.0</td>\n",
       "      <td>48.0</td>\n",
       "      <td>Software</td>\n",
       "      <td>Problema</td>\n",
       "      <td>2 - Normal</td>\n",
       "      <td>0 - Sin Asignar</td>\n",
       "      <td>3.0</td>\n",
       "      <td>5.0</td>\n",
       "    </tr>\n",
       "    <tr>\n",
       "      <th>74</th>\n",
       "      <td>GDLENR-1042392759</td>\n",
       "      <td>2016-01-23</td>\n",
       "      <td>1755.0</td>\n",
       "      <td>17.0</td>\n",
       "      <td>Acceso&amp;%Login</td>\n",
       "      <td>Problema</td>\n",
       "      <td>2 - Normal</td>\n",
       "      <td>0 - Sin Asignar</td>\n",
       "      <td>0.0</td>\n",
       "      <td>5.0</td>\n",
       "    </tr>\n",
       "  </tbody>\n",
       "</table>\n",
       "</div>"
      ],
      "text/plain": [
       "            id_ticket      fecha  id_empleado  id_agente      categoría  \\\n",
       "12  GDLEER-2142385152 2016-01-16       1825.0       31.0       Software   \n",
       "65  GDLEET-8142386963 2016-01-17        376.0       39.0       Software   \n",
       "68  GDLEET-8942397489 2016-01-28        488.0       14.0       Hardware   \n",
       "70  GDLEET-9342397848 2016-01-28        104.0       48.0       Software   \n",
       "74  GDLENR-1042392759 2016-01-23       1755.0       17.0  Acceso&%Login   \n",
       "\n",
       "        tipo   severidad        prioridad  días_resolución  satisfacción  \n",
       "12  Problema  2 - Normal  0 - Sin Asignar              1.0           5.0  \n",
       "65  Problema  2 - Normal  0 - Sin Asignar              1.0           5.0  \n",
       "68  Problema  2 - Normal  0 - Sin Asignar              9.0           5.0  \n",
       "70  Problema  2 - Normal  0 - Sin Asignar              3.0           5.0  \n",
       "74  Problema  2 - Normal  0 - Sin Asignar              0.0           5.0  "
      ]
     },
     "execution_count": 41,
     "metadata": {},
     "output_type": "execute_result"
    }
   ],
   "source": [
    "df_enero = df_pandas_2016[(df_pandas_2016['fecha'] > '2016-1-15') & (df_pandas_2016['fecha'] <= '2016-1-31')]\n",
    "df_enero.head()"
   ]
  },
  {
   "attachments": {},
   "cell_type": "markdown",
   "metadata": {},
   "source": [
    "- 4.2 Revisando los datos, nuestro jefe se ha dado cuenta que hay muchos tickets que no tienen ninguna prioridad asignada. Esto no debería seguir repitiéndose ya que cada ticket debe tener una prioridad para saber que urgencia debemos darle a cada ticket. Usando el str.contains extraed los tickets que no tengan una prioridad asignada o que tengan una prioridad baja."
   ]
  },
  {
   "cell_type": "code",
   "execution_count": 42,
   "metadata": {},
   "outputs": [
    {
     "data": {
      "text/plain": [
       "array(['0 - Sin Asignar', '3 - Alta', '2 - Media', '1 - Baja'],\n",
       "      dtype=object)"
      ]
     },
     "execution_count": 42,
     "metadata": {},
     "output_type": "execute_result"
    }
   ],
   "source": [
    "df_enero['prioridad'].unique()"
   ]
  },
  {
   "cell_type": "code",
   "execution_count": 43,
   "metadata": {},
   "outputs": [
    {
     "data": {
      "text/html": [
       "<div>\n",
       "<style scoped>\n",
       "    .dataframe tbody tr th:only-of-type {\n",
       "        vertical-align: middle;\n",
       "    }\n",
       "\n",
       "    .dataframe tbody tr th {\n",
       "        vertical-align: top;\n",
       "    }\n",
       "\n",
       "    .dataframe thead th {\n",
       "        text-align: right;\n",
       "    }\n",
       "</style>\n",
       "<table border=\"1\" class=\"dataframe\">\n",
       "  <thead>\n",
       "    <tr style=\"text-align: right;\">\n",
       "      <th></th>\n",
       "      <th>id_ticket</th>\n",
       "      <th>fecha</th>\n",
       "      <th>id_empleado</th>\n",
       "      <th>id_agente</th>\n",
       "      <th>categoría</th>\n",
       "      <th>tipo</th>\n",
       "      <th>severidad</th>\n",
       "      <th>prioridad</th>\n",
       "      <th>días_resolución</th>\n",
       "      <th>satisfacción</th>\n",
       "    </tr>\n",
       "  </thead>\n",
       "  <tbody>\n",
       "    <tr>\n",
       "      <th>12</th>\n",
       "      <td>GDLEER-2142385152</td>\n",
       "      <td>2016-01-16</td>\n",
       "      <td>1825.0</td>\n",
       "      <td>31.0</td>\n",
       "      <td>Software</td>\n",
       "      <td>Problema</td>\n",
       "      <td>2 - Normal</td>\n",
       "      <td>0 - Sin Asignar</td>\n",
       "      <td>1.0</td>\n",
       "      <td>5.0</td>\n",
       "    </tr>\n",
       "    <tr>\n",
       "      <th>65</th>\n",
       "      <td>GDLEET-8142386963</td>\n",
       "      <td>2016-01-17</td>\n",
       "      <td>376.0</td>\n",
       "      <td>39.0</td>\n",
       "      <td>Software</td>\n",
       "      <td>Problema</td>\n",
       "      <td>2 - Normal</td>\n",
       "      <td>0 - Sin Asignar</td>\n",
       "      <td>1.0</td>\n",
       "      <td>5.0</td>\n",
       "    </tr>\n",
       "    <tr>\n",
       "      <th>68</th>\n",
       "      <td>GDLEET-8942397489</td>\n",
       "      <td>2016-01-28</td>\n",
       "      <td>488.0</td>\n",
       "      <td>14.0</td>\n",
       "      <td>Hardware</td>\n",
       "      <td>Problema</td>\n",
       "      <td>2 - Normal</td>\n",
       "      <td>0 - Sin Asignar</td>\n",
       "      <td>9.0</td>\n",
       "      <td>5.0</td>\n",
       "    </tr>\n",
       "    <tr>\n",
       "      <th>70</th>\n",
       "      <td>GDLEET-9342397848</td>\n",
       "      <td>2016-01-28</td>\n",
       "      <td>104.0</td>\n",
       "      <td>48.0</td>\n",
       "      <td>Software</td>\n",
       "      <td>Problema</td>\n",
       "      <td>2 - Normal</td>\n",
       "      <td>0 - Sin Asignar</td>\n",
       "      <td>3.0</td>\n",
       "      <td>5.0</td>\n",
       "    </tr>\n",
       "    <tr>\n",
       "      <th>74</th>\n",
       "      <td>GDLENR-1042392759</td>\n",
       "      <td>2016-01-23</td>\n",
       "      <td>1755.0</td>\n",
       "      <td>17.0</td>\n",
       "      <td>Acceso&amp;%Login</td>\n",
       "      <td>Problema</td>\n",
       "      <td>2 - Normal</td>\n",
       "      <td>0 - Sin Asignar</td>\n",
       "      <td>0.0</td>\n",
       "      <td>5.0</td>\n",
       "    </tr>\n",
       "  </tbody>\n",
       "</table>\n",
       "</div>"
      ],
      "text/plain": [
       "            id_ticket      fecha  id_empleado  id_agente      categoría  \\\n",
       "12  GDLEER-2142385152 2016-01-16       1825.0       31.0       Software   \n",
       "65  GDLEET-8142386963 2016-01-17        376.0       39.0       Software   \n",
       "68  GDLEET-8942397489 2016-01-28        488.0       14.0       Hardware   \n",
       "70  GDLEET-9342397848 2016-01-28        104.0       48.0       Software   \n",
       "74  GDLENR-1042392759 2016-01-23       1755.0       17.0  Acceso&%Login   \n",
       "\n",
       "        tipo   severidad        prioridad  días_resolución  satisfacción  \n",
       "12  Problema  2 - Normal  0 - Sin Asignar              1.0           5.0  \n",
       "65  Problema  2 - Normal  0 - Sin Asignar              1.0           5.0  \n",
       "68  Problema  2 - Normal  0 - Sin Asignar              9.0           5.0  \n",
       "70  Problema  2 - Normal  0 - Sin Asignar              3.0           5.0  \n",
       "74  Problema  2 - Normal  0 - Sin Asignar              0.0           5.0  "
      ]
     },
     "execution_count": 43,
     "metadata": {},
     "output_type": "execute_result"
    }
   ],
   "source": [
    "patron = '[0-1].*'\n",
    "df_prioridad = df_enero[df_enero['prioridad'].str.contains(patron, regex=True)]\n",
    "df_prioridad.head()\n"
   ]
  },
  {
   "attachments": {},
   "cell_type": "markdown",
   "metadata": {},
   "source": [
    "\n",
    "Nuestro jefe quiere seguir buscando patrones y quiere saber si existe una relación entre el número de días que tarda en cerrarse un ticket y la satisfacción de los clientes. Para eso nos pide que:\n",
    "- 5.1 Extraigamos los tickets en lo que pasaron 5 o más días en ser solucionados.\n"
   ]
  },
  {
   "cell_type": "code",
   "execution_count": 44,
   "metadata": {},
   "outputs": [
    {
     "data": {
      "text/html": [
       "<div>\n",
       "<style scoped>\n",
       "    .dataframe tbody tr th:only-of-type {\n",
       "        vertical-align: middle;\n",
       "    }\n",
       "\n",
       "    .dataframe tbody tr th {\n",
       "        vertical-align: top;\n",
       "    }\n",
       "\n",
       "    .dataframe thead th {\n",
       "        text-align: right;\n",
       "    }\n",
       "</style>\n",
       "<table border=\"1\" class=\"dataframe\">\n",
       "  <thead>\n",
       "    <tr style=\"text-align: right;\">\n",
       "      <th></th>\n",
       "      <th>id_ticket</th>\n",
       "      <th>fecha</th>\n",
       "      <th>id_empleado</th>\n",
       "      <th>id_agente</th>\n",
       "      <th>categoría</th>\n",
       "      <th>tipo</th>\n",
       "      <th>severidad</th>\n",
       "      <th>prioridad</th>\n",
       "      <th>días_resolución</th>\n",
       "      <th>satisfacción</th>\n",
       "    </tr>\n",
       "  </thead>\n",
       "  <tbody>\n",
       "    <tr>\n",
       "      <th>3</th>\n",
       "      <td>GDDTSR-5942488006</td>\n",
       "      <td>2016-04-28</td>\n",
       "      <td>320.0</td>\n",
       "      <td>40.0</td>\n",
       "      <td>Sistema</td>\n",
       "      <td>Solicitud</td>\n",
       "      <td>0 - Sin Clasificar</td>\n",
       "      <td>0 - Sin Asignar</td>\n",
       "      <td>9.0</td>\n",
       "      <td>5.0</td>\n",
       "    </tr>\n",
       "    <tr>\n",
       "      <th>7</th>\n",
       "      <td>GDLEER-0542574815</td>\n",
       "      <td>2016-07-23</td>\n",
       "      <td>561.0</td>\n",
       "      <td>18.0</td>\n",
       "      <td>Software</td>\n",
       "      <td>Problema</td>\n",
       "      <td>2 - Normal</td>\n",
       "      <td>0 - Sin Asignar</td>\n",
       "      <td>5.0</td>\n",
       "      <td>5.0</td>\n",
       "    </tr>\n",
       "    <tr>\n",
       "      <th>8</th>\n",
       "      <td>GDLEER-0842457219</td>\n",
       "      <td>2016-03-28</td>\n",
       "      <td>71.0</td>\n",
       "      <td>12.0</td>\n",
       "      <td>Software</td>\n",
       "      <td>Problema</td>\n",
       "      <td>2 - Normal</td>\n",
       "      <td>0 - Sin Asignar</td>\n",
       "      <td>8.0</td>\n",
       "      <td>5.0</td>\n",
       "    </tr>\n",
       "    <tr>\n",
       "      <th>15</th>\n",
       "      <td>GDLEER-2342731423</td>\n",
       "      <td>2016-12-27</td>\n",
       "      <td>422.0</td>\n",
       "      <td>24.0</td>\n",
       "      <td>Hardware</td>\n",
       "      <td>Problema</td>\n",
       "      <td>2 - Normal</td>\n",
       "      <td>0 - Sin Asignar</td>\n",
       "      <td>10.0</td>\n",
       "      <td>5.0</td>\n",
       "    </tr>\n",
       "    <tr>\n",
       "      <th>18</th>\n",
       "      <td>GDLEER-3042628638</td>\n",
       "      <td>2016-09-15</td>\n",
       "      <td>1863.0</td>\n",
       "      <td>46.0</td>\n",
       "      <td>Hardware</td>\n",
       "      <td>Problema</td>\n",
       "      <td>2 - Normal</td>\n",
       "      <td>0 - Sin Asignar</td>\n",
       "      <td>9.0</td>\n",
       "      <td>5.0</td>\n",
       "    </tr>\n",
       "  </tbody>\n",
       "</table>\n",
       "</div>"
      ],
      "text/plain": [
       "            id_ticket      fecha  id_empleado  id_agente categoría       tipo  \\\n",
       "3   GDDTSR-5942488006 2016-04-28        320.0       40.0   Sistema  Solicitud   \n",
       "7   GDLEER-0542574815 2016-07-23        561.0       18.0  Software   Problema   \n",
       "8   GDLEER-0842457219 2016-03-28         71.0       12.0  Software   Problema   \n",
       "15  GDLEER-2342731423 2016-12-27        422.0       24.0  Hardware   Problema   \n",
       "18  GDLEER-3042628638 2016-09-15       1863.0       46.0  Hardware   Problema   \n",
       "\n",
       "             severidad        prioridad  días_resolución  satisfacción  \n",
       "3   0 - Sin Clasificar  0 - Sin Asignar              9.0           5.0  \n",
       "7           2 - Normal  0 - Sin Asignar              5.0           5.0  \n",
       "8           2 - Normal  0 - Sin Asignar              8.0           5.0  \n",
       "15          2 - Normal  0 - Sin Asignar             10.0           5.0  \n",
       "18          2 - Normal  0 - Sin Asignar              9.0           5.0  "
      ]
     },
     "execution_count": 44,
     "metadata": {},
     "output_type": "execute_result"
    }
   ],
   "source": [
    "df_tardios = df_pandas_2016[df_pandas_2016['días_resolución'] >= 5]\n",
    "df_tardios.head()"
   ]
  },
  {
   "attachments": {},
   "cell_type": "markdown",
   "metadata": {},
   "source": [
    "- 5.2 Extraigamos los tickets en los que pasaron menos de 5 días en ser solucionados."
   ]
  },
  {
   "cell_type": "code",
   "execution_count": 45,
   "metadata": {},
   "outputs": [
    {
     "data": {
      "text/html": [
       "<div>\n",
       "<style scoped>\n",
       "    .dataframe tbody tr th:only-of-type {\n",
       "        vertical-align: middle;\n",
       "    }\n",
       "\n",
       "    .dataframe tbody tr th {\n",
       "        vertical-align: top;\n",
       "    }\n",
       "\n",
       "    .dataframe thead th {\n",
       "        text-align: right;\n",
       "    }\n",
       "</style>\n",
       "<table border=\"1\" class=\"dataframe\">\n",
       "  <thead>\n",
       "    <tr style=\"text-align: right;\">\n",
       "      <th></th>\n",
       "      <th>id_ticket</th>\n",
       "      <th>fecha</th>\n",
       "      <th>id_empleado</th>\n",
       "      <th>id_agente</th>\n",
       "      <th>categoría</th>\n",
       "      <th>tipo</th>\n",
       "      <th>severidad</th>\n",
       "      <th>prioridad</th>\n",
       "      <th>días_resolución</th>\n",
       "      <th>satisfacción</th>\n",
       "    </tr>\n",
       "  </thead>\n",
       "  <tbody>\n",
       "    <tr>\n",
       "      <th>0</th>\n",
       "      <td>GDDENR-5042564453</td>\n",
       "      <td>2016-07-13</td>\n",
       "      <td>1735.0</td>\n",
       "      <td>4.0</td>\n",
       "      <td>Acceso&amp;%Login</td>\n",
       "      <td>Problema</td>\n",
       "      <td>0 - Sin Clasificar</td>\n",
       "      <td>0 - Sin Asignar</td>\n",
       "      <td>0.0</td>\n",
       "      <td>5.0</td>\n",
       "    </tr>\n",
       "    <tr>\n",
       "      <th>1</th>\n",
       "      <td>GDDENR-8042508060</td>\n",
       "      <td>2016-05-18</td>\n",
       "      <td>1566.0</td>\n",
       "      <td>10.0</td>\n",
       "      <td>Acceso&amp;%Login</td>\n",
       "      <td>Problema</td>\n",
       "      <td>0 - Sin Clasificar</td>\n",
       "      <td>0 - Sin Asignar</td>\n",
       "      <td>0.0</td>\n",
       "      <td>5.0</td>\n",
       "    </tr>\n",
       "    <tr>\n",
       "      <th>2</th>\n",
       "      <td>GDDESR-1342539995</td>\n",
       "      <td>2016-06-18</td>\n",
       "      <td>569.0</td>\n",
       "      <td>29.0</td>\n",
       "      <td>Sistema</td>\n",
       "      <td>Problema</td>\n",
       "      <td>0 - Sin Clasificar</td>\n",
       "      <td>0 - Sin Asignar</td>\n",
       "      <td>3.0</td>\n",
       "      <td>5.0</td>\n",
       "    </tr>\n",
       "    <tr>\n",
       "      <th>4</th>\n",
       "      <td>GDLEER-0042524120</td>\n",
       "      <td>2016-06-03</td>\n",
       "      <td>1842.0</td>\n",
       "      <td>31.0</td>\n",
       "      <td>Software</td>\n",
       "      <td>Problema</td>\n",
       "      <td>2 - Normal</td>\n",
       "      <td>0 - Sin Asignar</td>\n",
       "      <td>0.0</td>\n",
       "      <td>5.0</td>\n",
       "    </tr>\n",
       "    <tr>\n",
       "      <th>5</th>\n",
       "      <td>GDLEER-0142608095</td>\n",
       "      <td>2016-08-26</td>\n",
       "      <td>59.0</td>\n",
       "      <td>20.0</td>\n",
       "      <td>Software</td>\n",
       "      <td>Problema</td>\n",
       "      <td>2 - Normal</td>\n",
       "      <td>0 - Sin Asignar</td>\n",
       "      <td>1.0</td>\n",
       "      <td>1.0</td>\n",
       "    </tr>\n",
       "  </tbody>\n",
       "</table>\n",
       "</div>"
      ],
      "text/plain": [
       "           id_ticket      fecha  id_empleado  id_agente      categoría  \\\n",
       "0  GDDENR-5042564453 2016-07-13       1735.0        4.0  Acceso&%Login   \n",
       "1  GDDENR-8042508060 2016-05-18       1566.0       10.0  Acceso&%Login   \n",
       "2  GDDESR-1342539995 2016-06-18        569.0       29.0        Sistema   \n",
       "4  GDLEER-0042524120 2016-06-03       1842.0       31.0       Software   \n",
       "5  GDLEER-0142608095 2016-08-26         59.0       20.0       Software   \n",
       "\n",
       "       tipo           severidad        prioridad  días_resolución  \\\n",
       "0  Problema  0 - Sin Clasificar  0 - Sin Asignar              0.0   \n",
       "1  Problema  0 - Sin Clasificar  0 - Sin Asignar              0.0   \n",
       "2  Problema  0 - Sin Clasificar  0 - Sin Asignar              3.0   \n",
       "4  Problema          2 - Normal  0 - Sin Asignar              0.0   \n",
       "5  Problema          2 - Normal  0 - Sin Asignar              1.0   \n",
       "\n",
       "   satisfacción  \n",
       "0           5.0  \n",
       "1           5.0  \n",
       "2           5.0  \n",
       "4           5.0  \n",
       "5           1.0  "
      ]
     },
     "execution_count": 45,
     "metadata": {},
     "output_type": "execute_result"
    }
   ],
   "source": [
    "df_no_tardios = df_pandas_2016[df_pandas_2016['días_resolución'] < 5]\n",
    "df_no_tardios.head()"
   ]
  },
  {
   "attachments": {},
   "cell_type": "markdown",
   "metadata": {},
   "source": [
    "- 5.3 Usando como referencia los dos conjuntos de datos creados en los dos pasos anteriores:\n",
    "\n",
    "\n",
    "- 5.4 ¿Qué valores tenemos de satisfacción en cada uno de ellos?\n",
    "- 5.5 ¿En cuál de ellos hay más puntuaciones de 5 en relación a la satisfacción?"
   ]
  },
  {
   "cell_type": "code",
   "execution_count": 46,
   "metadata": {},
   "outputs": [
    {
     "data": {
      "text/plain": [
       "5.0    2883\n",
       "4.0    1805\n",
       "1.0     719\n",
       "3.0     534\n",
       "2.0     109\n",
       "Name: satisfacción, dtype: int64"
      ]
     },
     "execution_count": 46,
     "metadata": {},
     "output_type": "execute_result"
    }
   ],
   "source": [
    "df_tardios['satisfacción'].value_counts()"
   ]
  },
  {
   "cell_type": "code",
   "execution_count": 47,
   "metadata": {},
   "outputs": [
    {
     "data": {
      "text/plain": [
       "5.0    3320\n",
       "4.0    1937\n",
       "1.0     869\n",
       "3.0     596\n",
       "2.0     167\n",
       "Name: satisfacción, dtype: int64"
      ]
     },
     "execution_count": 47,
     "metadata": {},
     "output_type": "execute_result"
    }
   ],
   "source": [
    "df_no_tardios['satisfacción'].value_counts() #Hay más puntuaciones de 5 en los respondidos en menos de 5 dias"
   ]
  },
  {
   "attachments": {},
   "cell_type": "markdown",
   "metadata": {},
   "source": [
    "6. Revisando los dataframes generados en el ejercicio anterior, nos hemos dado cuenta que hay una serie de empleados que tardan demasiado en resolver los problemas planteados por los clientes. Nuestro jefe quiere extraer los datos de estos empleados en concreto para saber que esta pasando. En concreto estos empleados son aquellos que tienen los siguientes id's: 1118.0, 730.0, 97.0, 1745.0. \n",
    "- 6.1  Crea un dataframe donde solo tengamos la información de estos empleados. Usad el método isin(), para resolver este ejercicio.\n",
    "\n"
   ]
  },
  {
   "cell_type": "code",
   "execution_count": 48,
   "metadata": {},
   "outputs": [
    {
     "data": {
      "text/html": [
       "<div>\n",
       "<style scoped>\n",
       "    .dataframe tbody tr th:only-of-type {\n",
       "        vertical-align: middle;\n",
       "    }\n",
       "\n",
       "    .dataframe tbody tr th {\n",
       "        vertical-align: top;\n",
       "    }\n",
       "\n",
       "    .dataframe thead th {\n",
       "        text-align: right;\n",
       "    }\n",
       "</style>\n",
       "<table border=\"1\" class=\"dataframe\">\n",
       "  <thead>\n",
       "    <tr style=\"text-align: right;\">\n",
       "      <th></th>\n",
       "      <th>id_ticket</th>\n",
       "      <th>fecha</th>\n",
       "      <th>id_empleado</th>\n",
       "      <th>id_agente</th>\n",
       "      <th>categoría</th>\n",
       "      <th>tipo</th>\n",
       "      <th>severidad</th>\n",
       "      <th>prioridad</th>\n",
       "      <th>días_resolución</th>\n",
       "      <th>satisfacción</th>\n",
       "    </tr>\n",
       "  </thead>\n",
       "  <tbody>\n",
       "    <tr>\n",
       "      <th>261</th>\n",
       "      <td>GDLTER-1042574687</td>\n",
       "      <td>2016-07-23</td>\n",
       "      <td>1118.0</td>\n",
       "      <td>26.0</td>\n",
       "      <td>Software</td>\n",
       "      <td>Solicitud</td>\n",
       "      <td>2 - Normal</td>\n",
       "      <td>0 - Sin Asignar</td>\n",
       "      <td>10.0</td>\n",
       "      <td>5.0</td>\n",
       "    </tr>\n",
       "    <tr>\n",
       "      <th>410</th>\n",
       "      <td>GDLTER-8542577885</td>\n",
       "      <td>2016-07-26</td>\n",
       "      <td>1118.0</td>\n",
       "      <td>8.0</td>\n",
       "      <td>Hardware</td>\n",
       "      <td>Solicitud</td>\n",
       "      <td>2 - Normal</td>\n",
       "      <td>0 - Sin Asignar</td>\n",
       "      <td>15.0</td>\n",
       "      <td>5.0</td>\n",
       "    </tr>\n",
       "    <tr>\n",
       "      <th>718</th>\n",
       "      <td>GDLTSR-0342448482</td>\n",
       "      <td>2016-03-19</td>\n",
       "      <td>1118.0</td>\n",
       "      <td>24.0</td>\n",
       "      <td>Sistema</td>\n",
       "      <td>Solicitud</td>\n",
       "      <td>2 - Normal</td>\n",
       "      <td>0 - Sin Asignar</td>\n",
       "      <td>13.0</td>\n",
       "      <td>5.0</td>\n",
       "    </tr>\n",
       "    <tr>\n",
       "      <th>907</th>\n",
       "      <td>GDLTSR-8042389076</td>\n",
       "      <td>2016-01-20</td>\n",
       "      <td>97.0</td>\n",
       "      <td>30.0</td>\n",
       "      <td>Sistema</td>\n",
       "      <td>Solicitud</td>\n",
       "      <td>2 - Normal</td>\n",
       "      <td>0 - Sin Asignar</td>\n",
       "      <td>10.0</td>\n",
       "      <td>5.0</td>\n",
       "    </tr>\n",
       "    <tr>\n",
       "      <th>1792</th>\n",
       "      <td>GHLTNR-4042383675</td>\n",
       "      <td>2016-01-14</td>\n",
       "      <td>97.0</td>\n",
       "      <td>16.0</td>\n",
       "      <td>Acceso&amp;%Login</td>\n",
       "      <td>Solicitud</td>\n",
       "      <td>2 - Normal</td>\n",
       "      <td>3 - Alta</td>\n",
       "      <td>0.0</td>\n",
       "      <td>5.0</td>\n",
       "    </tr>\n",
       "  </tbody>\n",
       "</table>\n",
       "</div>"
      ],
      "text/plain": [
       "              id_ticket      fecha  id_empleado  id_agente      categoría  \\\n",
       "261   GDLTER-1042574687 2016-07-23       1118.0       26.0       Software   \n",
       "410   GDLTER-8542577885 2016-07-26       1118.0        8.0       Hardware   \n",
       "718   GDLTSR-0342448482 2016-03-19       1118.0       24.0        Sistema   \n",
       "907   GDLTSR-8042389076 2016-01-20         97.0       30.0        Sistema   \n",
       "1792  GHLTNR-4042383675 2016-01-14         97.0       16.0  Acceso&%Login   \n",
       "\n",
       "           tipo   severidad        prioridad  días_resolución  satisfacción  \n",
       "261   Solicitud  2 - Normal  0 - Sin Asignar             10.0           5.0  \n",
       "410   Solicitud  2 - Normal  0 - Sin Asignar             15.0           5.0  \n",
       "718   Solicitud  2 - Normal  0 - Sin Asignar             13.0           5.0  \n",
       "907   Solicitud  2 - Normal  0 - Sin Asignar             10.0           5.0  \n",
       "1792  Solicitud  2 - Normal         3 - Alta              0.0           5.0  "
      ]
     },
     "execution_count": 48,
     "metadata": {},
     "output_type": "execute_result"
    }
   ],
   "source": [
    "df_empleados_tardones = df_pandas_2016[df_pandas_2016['id_empleado'].isin([1118.0, 730.0, 97.0, 1745.0])]\n",
    "df_empleados_tardones.head()"
   ]
  },
  {
   "attachments": {},
   "cell_type": "markdown",
   "metadata": {},
   "source": [
    "- 6.2  Utilizando la columna de fecha cread una nueva columna llamada semestre que contenga 1er semestre o 2º semestre. Aquellos tickets que pertenezcan a los seis primeros meses tendran el valor de \"1er trismestre\" y los tickets de julio en adelante tendrán el valor de \"2º semestre\"."
   ]
  },
  {
   "cell_type": "code",
   "execution_count": 49,
   "metadata": {},
   "outputs": [
    {
     "data": {
      "text/html": [
       "<div>\n",
       "<style scoped>\n",
       "    .dataframe tbody tr th:only-of-type {\n",
       "        vertical-align: middle;\n",
       "    }\n",
       "\n",
       "    .dataframe tbody tr th {\n",
       "        vertical-align: top;\n",
       "    }\n",
       "\n",
       "    .dataframe thead th {\n",
       "        text-align: right;\n",
       "    }\n",
       "</style>\n",
       "<table border=\"1\" class=\"dataframe\">\n",
       "  <thead>\n",
       "    <tr style=\"text-align: right;\">\n",
       "      <th></th>\n",
       "      <th>id_ticket</th>\n",
       "      <th>fecha</th>\n",
       "      <th>id_empleado</th>\n",
       "      <th>id_agente</th>\n",
       "      <th>categoría</th>\n",
       "      <th>tipo</th>\n",
       "      <th>severidad</th>\n",
       "      <th>prioridad</th>\n",
       "      <th>días_resolución</th>\n",
       "      <th>satisfacción</th>\n",
       "      <th>semestre</th>\n",
       "    </tr>\n",
       "  </thead>\n",
       "  <tbody>\n",
       "    <tr>\n",
       "      <th>0</th>\n",
       "      <td>GDDENR-5042564453</td>\n",
       "      <td>2016-07-13</td>\n",
       "      <td>1735.0</td>\n",
       "      <td>4.0</td>\n",
       "      <td>Acceso&amp;%Login</td>\n",
       "      <td>Problema</td>\n",
       "      <td>0 - Sin Clasificar</td>\n",
       "      <td>0 - Sin Asignar</td>\n",
       "      <td>0.0</td>\n",
       "      <td>5.0</td>\n",
       "      <td>2º semestre</td>\n",
       "    </tr>\n",
       "    <tr>\n",
       "      <th>1</th>\n",
       "      <td>GDDENR-8042508060</td>\n",
       "      <td>2016-05-18</td>\n",
       "      <td>1566.0</td>\n",
       "      <td>10.0</td>\n",
       "      <td>Acceso&amp;%Login</td>\n",
       "      <td>Problema</td>\n",
       "      <td>0 - Sin Clasificar</td>\n",
       "      <td>0 - Sin Asignar</td>\n",
       "      <td>0.0</td>\n",
       "      <td>5.0</td>\n",
       "      <td>1er semestre</td>\n",
       "    </tr>\n",
       "    <tr>\n",
       "      <th>2</th>\n",
       "      <td>GDDESR-1342539995</td>\n",
       "      <td>2016-06-18</td>\n",
       "      <td>569.0</td>\n",
       "      <td>29.0</td>\n",
       "      <td>Sistema</td>\n",
       "      <td>Problema</td>\n",
       "      <td>0 - Sin Clasificar</td>\n",
       "      <td>0 - Sin Asignar</td>\n",
       "      <td>3.0</td>\n",
       "      <td>5.0</td>\n",
       "      <td>1er semestre</td>\n",
       "    </tr>\n",
       "    <tr>\n",
       "      <th>3</th>\n",
       "      <td>GDDTSR-5942488006</td>\n",
       "      <td>2016-04-28</td>\n",
       "      <td>320.0</td>\n",
       "      <td>40.0</td>\n",
       "      <td>Sistema</td>\n",
       "      <td>Solicitud</td>\n",
       "      <td>0 - Sin Clasificar</td>\n",
       "      <td>0 - Sin Asignar</td>\n",
       "      <td>9.0</td>\n",
       "      <td>5.0</td>\n",
       "      <td>1er semestre</td>\n",
       "    </tr>\n",
       "    <tr>\n",
       "      <th>4</th>\n",
       "      <td>GDLEER-0042524120</td>\n",
       "      <td>2016-06-03</td>\n",
       "      <td>1842.0</td>\n",
       "      <td>31.0</td>\n",
       "      <td>Software</td>\n",
       "      <td>Problema</td>\n",
       "      <td>2 - Normal</td>\n",
       "      <td>0 - Sin Asignar</td>\n",
       "      <td>0.0</td>\n",
       "      <td>5.0</td>\n",
       "      <td>1er semestre</td>\n",
       "    </tr>\n",
       "  </tbody>\n",
       "</table>\n",
       "</div>"
      ],
      "text/plain": [
       "           id_ticket      fecha  id_empleado  id_agente      categoría  \\\n",
       "0  GDDENR-5042564453 2016-07-13       1735.0        4.0  Acceso&%Login   \n",
       "1  GDDENR-8042508060 2016-05-18       1566.0       10.0  Acceso&%Login   \n",
       "2  GDDESR-1342539995 2016-06-18        569.0       29.0        Sistema   \n",
       "3  GDDTSR-5942488006 2016-04-28        320.0       40.0        Sistema   \n",
       "4  GDLEER-0042524120 2016-06-03       1842.0       31.0       Software   \n",
       "\n",
       "        tipo           severidad        prioridad  días_resolución  \\\n",
       "0   Problema  0 - Sin Clasificar  0 - Sin Asignar              0.0   \n",
       "1   Problema  0 - Sin Clasificar  0 - Sin Asignar              0.0   \n",
       "2   Problema  0 - Sin Clasificar  0 - Sin Asignar              3.0   \n",
       "3  Solicitud  0 - Sin Clasificar  0 - Sin Asignar              9.0   \n",
       "4   Problema          2 - Normal  0 - Sin Asignar              0.0   \n",
       "\n",
       "   satisfacción      semestre  \n",
       "0           5.0   2º semestre  \n",
       "1           5.0  1er semestre  \n",
       "2           5.0  1er semestre  \n",
       "3           5.0  1er semestre  \n",
       "4           5.0  1er semestre  "
      ]
     },
     "execution_count": 49,
     "metadata": {},
     "output_type": "execute_result"
    }
   ],
   "source": [
    "df_pandas_2016['semestre'] = np.where(df_pandas_2016['fecha'] <= '2016-6-30', '1er semestre', '2º semestre')\n",
    "df_pandas_2016.head()"
   ]
  },
  {
   "cell_type": "code",
   "execution_count": 50,
   "metadata": {},
   "outputs": [
    {
     "data": {
      "text/html": [
       "<div>\n",
       "<style scoped>\n",
       "    .dataframe tbody tr th:only-of-type {\n",
       "        vertical-align: middle;\n",
       "    }\n",
       "\n",
       "    .dataframe tbody tr th {\n",
       "        vertical-align: top;\n",
       "    }\n",
       "\n",
       "    .dataframe thead th {\n",
       "        text-align: right;\n",
       "    }\n",
       "</style>\n",
       "<table border=\"1\" class=\"dataframe\">\n",
       "  <thead>\n",
       "    <tr style=\"text-align: right;\">\n",
       "      <th></th>\n",
       "      <th>id_ticket</th>\n",
       "      <th>fecha</th>\n",
       "      <th>id_empleado</th>\n",
       "      <th>id_agente</th>\n",
       "      <th>categoría</th>\n",
       "      <th>tipo</th>\n",
       "      <th>severidad</th>\n",
       "      <th>prioridad</th>\n",
       "      <th>días_resolución</th>\n",
       "      <th>satisfacción</th>\n",
       "      <th>semestre</th>\n",
       "    </tr>\n",
       "  </thead>\n",
       "  <tbody>\n",
       "    <tr>\n",
       "      <th>261</th>\n",
       "      <td>GDLTER-1042574687</td>\n",
       "      <td>2016-07-23</td>\n",
       "      <td>1118.0</td>\n",
       "      <td>26.0</td>\n",
       "      <td>Software</td>\n",
       "      <td>Solicitud</td>\n",
       "      <td>2 - Normal</td>\n",
       "      <td>0 - Sin Asignar</td>\n",
       "      <td>10.0</td>\n",
       "      <td>5.0</td>\n",
       "      <td>2º semestre</td>\n",
       "    </tr>\n",
       "    <tr>\n",
       "      <th>410</th>\n",
       "      <td>GDLTER-8542577885</td>\n",
       "      <td>2016-07-26</td>\n",
       "      <td>1118.0</td>\n",
       "      <td>8.0</td>\n",
       "      <td>Hardware</td>\n",
       "      <td>Solicitud</td>\n",
       "      <td>2 - Normal</td>\n",
       "      <td>0 - Sin Asignar</td>\n",
       "      <td>15.0</td>\n",
       "      <td>5.0</td>\n",
       "      <td>2º semestre</td>\n",
       "    </tr>\n",
       "    <tr>\n",
       "      <th>718</th>\n",
       "      <td>GDLTSR-0342448482</td>\n",
       "      <td>2016-03-19</td>\n",
       "      <td>1118.0</td>\n",
       "      <td>24.0</td>\n",
       "      <td>Sistema</td>\n",
       "      <td>Solicitud</td>\n",
       "      <td>2 - Normal</td>\n",
       "      <td>0 - Sin Asignar</td>\n",
       "      <td>13.0</td>\n",
       "      <td>5.0</td>\n",
       "      <td>1er semestre</td>\n",
       "    </tr>\n",
       "    <tr>\n",
       "      <th>907</th>\n",
       "      <td>GDLTSR-8042389076</td>\n",
       "      <td>2016-01-20</td>\n",
       "      <td>97.0</td>\n",
       "      <td>30.0</td>\n",
       "      <td>Sistema</td>\n",
       "      <td>Solicitud</td>\n",
       "      <td>2 - Normal</td>\n",
       "      <td>0 - Sin Asignar</td>\n",
       "      <td>10.0</td>\n",
       "      <td>5.0</td>\n",
       "      <td>1er semestre</td>\n",
       "    </tr>\n",
       "    <tr>\n",
       "      <th>1792</th>\n",
       "      <td>GHLTNR-4042383675</td>\n",
       "      <td>2016-01-14</td>\n",
       "      <td>97.0</td>\n",
       "      <td>16.0</td>\n",
       "      <td>Acceso&amp;%Login</td>\n",
       "      <td>Solicitud</td>\n",
       "      <td>2 - Normal</td>\n",
       "      <td>3 - Alta</td>\n",
       "      <td>0.0</td>\n",
       "      <td>5.0</td>\n",
       "      <td>1er semestre</td>\n",
       "    </tr>\n",
       "  </tbody>\n",
       "</table>\n",
       "</div>"
      ],
      "text/plain": [
       "              id_ticket      fecha  id_empleado  id_agente      categoría  \\\n",
       "261   GDLTER-1042574687 2016-07-23       1118.0       26.0       Software   \n",
       "410   GDLTER-8542577885 2016-07-26       1118.0        8.0       Hardware   \n",
       "718   GDLTSR-0342448482 2016-03-19       1118.0       24.0        Sistema   \n",
       "907   GDLTSR-8042389076 2016-01-20         97.0       30.0        Sistema   \n",
       "1792  GHLTNR-4042383675 2016-01-14         97.0       16.0  Acceso&%Login   \n",
       "\n",
       "           tipo   severidad        prioridad  días_resolución  satisfacción  \\\n",
       "261   Solicitud  2 - Normal  0 - Sin Asignar             10.0           5.0   \n",
       "410   Solicitud  2 - Normal  0 - Sin Asignar             15.0           5.0   \n",
       "718   Solicitud  2 - Normal  0 - Sin Asignar             13.0           5.0   \n",
       "907   Solicitud  2 - Normal  0 - Sin Asignar             10.0           5.0   \n",
       "1792  Solicitud  2 - Normal         3 - Alta              0.0           5.0   \n",
       "\n",
       "          semestre  \n",
       "261    2º semestre  \n",
       "410    2º semestre  \n",
       "718   1er semestre  \n",
       "907   1er semestre  \n",
       "1792  1er semestre  "
      ]
     },
     "execution_count": 50,
     "metadata": {},
     "output_type": "execute_result"
    }
   ],
   "source": [
    "df_empleados_tardones = df_pandas_2016[df_pandas_2016['id_empleado'].isin([1118.0, 730.0, 97.0, 1745.0])]\n",
    "df_empleados_tardones.head()"
   ]
  },
  {
   "attachments": {},
   "cell_type": "markdown",
   "metadata": {},
   "source": [
    "- 7 Guardad como un archivo csv nuevo. Lo usaremos en el pair programming de mañana."
   ]
  },
  {
   "cell_type": "code",
   "execution_count": 51,
   "metadata": {},
   "outputs": [],
   "source": [
    "df_pandas_2016.to_csv(\"datos/2016.csv\")"
   ]
  }
 ],
 "metadata": {
  "kernelspec": {
   "display_name": "Python 3",
   "language": "python",
   "name": "python3"
  },
  "language_info": {
   "codemirror_mode": {
    "name": "ipython",
    "version": 3
   },
   "file_extension": ".py",
   "mimetype": "text/x-python",
   "name": "python",
   "nbconvert_exporter": "python",
   "pygments_lexer": "ipython3",
   "version": "3.9.7"
  },
  "orig_nbformat": 4,
  "vscode": {
   "interpreter": {
    "hash": "6bb344ec998a2db0c78a7eaa5135bb2f7773a7d1a2454d679d4f6b404b20921e"
   }
  }
 },
 "nbformat": 4,
 "nbformat_minor": 2
}
