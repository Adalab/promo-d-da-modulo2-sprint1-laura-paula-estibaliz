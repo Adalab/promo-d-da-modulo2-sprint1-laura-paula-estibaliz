{
 "cells": [
  {
   "attachments": {},
   "cell_type": "markdown",
   "metadata": {},
   "source": [
    "# Pair Programming Pandas II\n",
    "\n",
    "# Guardado de datos\n",
    "\n",
    "En este ejercicio de pair programming pondremos en práctica como cargar distintos tipos de archivos en Python usando Pandas.\n",
    "\n",
    "Al final de la explicación encontrareís una serie de ficheros con distintos formatos.\n",
    "\n",
    "Los objetivos de este pair programming:\n",
    "\n",
    "Id cargando todos los ficheros en vuestro jupyter.\n",
    "\n",
    "📌 NOTA En la apertura del archivo de quejas.csv puede que os salga un error como este:\n",
    "error\n",
    "\n",
    "Esto es debido a que habrá que indicar el encoding y el separador de este fichero. En concreto el encoding es de tipo \"ISO-8859-1\". El separador os lo dejamos a vosotras para que investigueis un poquito.\n",
    "\n",
    "- Utlizando el dataset de quejas.csv y usando el loc, quedaros solo con aquellos datos que correspondan a tipo \"Sugerencia\" (para solucionar este ejercicio tendréis que poner en práctica métodos aprendidos en la lección de ayer). En este caso querremos todas las columnas. Almacenad los resultados en nuevo dataframe que se llame df_sugerencias.\n",
    "\n",
    "\n",
    "- Utlizando el dataset de quejas.csv y usando el loc,quedaros solo con aquellos datos que correspondan con canal de entrada \"Presencial\" y y que sean de tipo \"Queja\" (para solucionar este ejercicio tendréis que poner en práctica métodos aprendidos en la lección de ayer). En este caso solo querremos las columnas de \"fecha_entrada\" y \"fecha_contestacion\". Almacenad los resultados en nuevo dataframe que se llame df_queja_presencial.\n",
    "\n"
   ]
  },
  {
   "cell_type": "code",
   "execution_count": null,
   "metadata": {},
   "outputs": [],
   "source": [
    "import pandas as pd\n",
    "import numpy as np\n",
    "import pickle"
   ]
  },
  {
   "cell_type": "code",
   "execution_count": null,
   "metadata": {},
   "outputs": [],
   "source": [
    "import os"
   ]
  },
  {
   "cell_type": "code",
   "execution_count": null,
   "metadata": {},
   "outputs": [],
   "source": [
    "df_csv = pd.read_csv(\"datos/quejas.csv\", encoding= \"ISO-8859-1\", sep=\";\") \n",
    "df_csv.head()"
   ]
  },
  {
   "cell_type": "code",
   "execution_count": null,
   "metadata": {},
   "outputs": [],
   "source": [
    "df_sugerencias = df_csv.loc[df_csv.tipo == \"Sugerencia\"]\n",
    "df_sugerencias.head()\n"
   ]
  },
  {
   "cell_type": "code",
   "execution_count": null,
   "metadata": {},
   "outputs": [],
   "source": [
    "df_queja_presencial = df_csv.loc[(df_csv.canal_entrada == \"PRESENCIAL\") & (df_csv.tipo == \"Queja\"), [\"fecha_entrada\", \"fecha_contestacion\"]]\n",
    "df_queja_presencial.head()"
   ]
  },
  {
   "attachments": {},
   "cell_type": "markdown",
   "metadata": {},
   "source": [
    "\n",
    "Usando el método read_clipboard, cread un dataframe nuevo que nos ayude a contestar las siguientes preguntas:\n",
    "\n",
    "- Usando el iloc, ¿Cuál es la temperatura mínima de Febrero? ¿Y la máxima?\n",
    "\n",
    "- Usando el loc, ¿Cuántas horas de sol hay en Julio? ¿Y en Diciembre?\n",
    "\n",
    "- Usando el iloc, ¿Cuál fue la húmedad del mes de Septiembre? ¿Y la precipitación?\n",
    "\n",
    "- Estos datos corresponden a los años 1991-2021. Cread una nueva columna cuyo valor sea \"1991-2021\".\n",
    "\n",
    "- Por último, guardad el dataframe generado en el ejercicio 2 en formato csv y xlsx."
   ]
  },
  {
   "cell_type": "code",
   "execution_count": null,
   "metadata": {},
   "outputs": [],
   "source": [
    "# revisar\n",
    "df_temp = pd.read_clipboard()\n",
    "df_temp.head(None)"
   ]
  },
  {
   "cell_type": "code",
   "execution_count": null,
   "metadata": {},
   "outputs": [],
   "source": [
    "df_max = df_temp.iloc[2, 0]\n",
    "df_max"
   ]
  },
  {
   "cell_type": "code",
   "execution_count": null,
   "metadata": {},
   "outputs": [],
   "source": [
    "df_min = df_temp.iloc[1, 0]\n",
    "\n",
    "df_min"
   ]
  },
  {
   "cell_type": "code",
   "execution_count": null,
   "metadata": {},
   "outputs": [],
   "source": [
    "hs_julio = df_temp.loc[\"Horas de sol (horas)\", \"​​Julio\"]\n",
    "\n",
    "hs_julio"
   ]
  },
  {
   "cell_type": "code",
   "execution_count": null,
   "metadata": {},
   "outputs": [],
   "source": [
    "hs_diciembre = df_temp.loc[\"Horas de sol (horas)\", \"Diciembre\"]\n",
    "\n",
    "hs_diciembre "
   ]
  },
  {
   "cell_type": "code",
   "execution_count": null,
   "metadata": {},
   "outputs": [],
   "source": [
    "df_precipitacion_sep = df_temp.iloc[3, 7]\n",
    "\n",
    "df_precipitacion_sep"
   ]
  },
  {
   "cell_type": "code",
   "execution_count": null,
   "metadata": {},
   "outputs": [],
   "source": [
    "df_humedad_sep = df_temp.iloc[4, 7]\n",
    "\n",
    "df_humedad_sep"
   ]
  },
  {
   "cell_type": "code",
   "execution_count": null,
   "metadata": {},
   "outputs": [],
   "source": [
    "df_temp[\"Año\"] = (\"1991-2021\")\n",
    "\n",
    "df_temp.head()"
   ]
  },
  {
   "cell_type": "code",
   "execution_count": null,
   "metadata": {},
   "outputs": [],
   "source": [
    "df_temp.to_csv('datos/clima_madrid.csv')"
   ]
  },
  {
   "cell_type": "code",
   "execution_count": null,
   "metadata": {},
   "outputs": [],
   "source": [
    "df_temp.to_excel('datos/clima_madrid.xlsx')"
   ]
  }
 ],
 "metadata": {
  "kernelspec": {
   "display_name": "adalabenv",
   "language": "python",
   "name": "python3"
  },
  "language_info": {
   "codemirror_mode": {
    "name": "ipython",
    "version": 3
   },
   "file_extension": ".py",
   "mimetype": "text/x-python",
   "name": "python",
   "nbconvert_exporter": "python",
   "pygments_lexer": "ipython3",
   "version": "3.10.9"
  },
  "orig_nbformat": 4,
  "vscode": {
   "interpreter": {
    "hash": "c004a5276984f8dfa1505111998c98edf45659ebda9b166f33abdc36dd619b18"
   }
  }
 },
 "nbformat": 4,
 "nbformat_minor": 2
}
