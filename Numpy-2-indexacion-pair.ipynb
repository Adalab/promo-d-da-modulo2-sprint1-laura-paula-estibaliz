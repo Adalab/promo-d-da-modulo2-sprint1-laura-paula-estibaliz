{
 "cells": [
  {
   "attachments": {},
   "cell_type": "markdown",
   "metadata": {},
   "source": [
    "# Pair Programming NumPy II\n",
    "\n",
    "Seguimos trabajando con NumPy, en este caso practicaremos como acceder a distintos elementos de nuestros arrays y como cambiar su forma para poder hacer operaciones entre varios arrays.\n",
    "\n",
    "-Cread un array de dos dimensiones de 5 filas y 3 columnas. Sobre el array creado anteriormente, extraed:\n",
    "\n",
    "- El valor de la primera fila y la segunda columna.\n",
    "\n",
    "- Los valores de la segunda fila y las dos primeras columnas.\n",
    "\n",
    "- Extraed las filas pares (incluyendo la 0) y todas las columnas.\n",
    "\n",
    "- Extraed los valores que sean mayores que 0.5.\n",
    "\n",
    "- Extraed los valores menores que 0.2 o mayores que 0.5\n",
    "\n",
    "Cread dos array de tres dimensiones:\n",
    "\n",
    "- El primero de 2 matrices, 5 filas y 3 columnas.\n",
    "\n",
    "- El segundo de 3 matrices, 2 filas y 5 columnas\n",
    "\n",
    "- Haced un análisis exploratorio de los array creados. Recordad que en el ejercicio de ayer nos creamos una función para esto.\n",
    "\n",
    "- Sumad los dos arrays. ¿Podéis? ¿Por qué?\n",
    "\n",
    "Para cambiar la forma de un array y poder hacer operaciones entre arrays que tienen distintas formas hemos aprendido dos métodos:\n",
    "\n",
    "- .reshape()\n",
    "- .transpose()\n",
    "\n",
    "Utiliza estas dos funciones para cambiar la forma de los array y hacer operaciones entre ellos."
   ]
  },
  {
   "cell_type": "code",
   "execution_count": null,
   "metadata": {},
   "outputs": [],
   "source": []
  }
 ],
 "metadata": {
  "language_info": {
   "name": "python"
  },
  "orig_nbformat": 4
 },
 "nbformat": 4,
 "nbformat_minor": 2
}
