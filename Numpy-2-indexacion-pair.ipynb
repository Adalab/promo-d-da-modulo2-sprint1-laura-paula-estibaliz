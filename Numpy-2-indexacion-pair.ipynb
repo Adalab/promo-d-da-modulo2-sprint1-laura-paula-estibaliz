{
 "cells": [
  {
   "attachments": {},
   "cell_type": "markdown",
   "metadata": {},
   "source": [
    "# Pair Programming NumPy II\n",
    "\n",
    "Seguimos trabajando con NumPy, en este caso practicaremos como acceder a distintos elementos de nuestros arrays y como cambiar su forma para poder hacer operaciones entre varios arrays.\n",
    "\n",
    "-Cread un array de dos dimensiones de 5 filas y 3 columnas. Sobre el array creado anteriormente, extraed:\n"
   ]
  },
  {
   "cell_type": "code",
   "execution_count": 1,
   "metadata": {},
   "outputs": [],
   "source": [
    "import numpy as np"
   ]
  },
  {
   "cell_type": "code",
   "execution_count": 2,
   "metadata": {},
   "outputs": [
    {
     "data": {
      "text/plain": [
       "array([[[35, 80, 91],\n",
       "        [66, 14, 95],\n",
       "        [26,  6, 69],\n",
       "        [52, 87, 38],\n",
       "        [47, 77, 82]],\n",
       "\n",
       "       [[82, 54, 49],\n",
       "        [45, 11, 81],\n",
       "        [64, 67, 16],\n",
       "        [91, 28, 66],\n",
       "        [76, 28,  5]]])"
      ]
     },
     "execution_count": 2,
     "metadata": {},
     "output_type": "execute_result"
    }
   ],
   "source": [
    "array = np.random.randint(0,100, (2,5,3))\n",
    "array"
   ]
  },
  {
   "attachments": {},
   "cell_type": "markdown",
   "metadata": {},
   "source": [
    "\n",
    "- El valor de la primera fila y la segunda columna.\n",
    "\n",
    "- Los valores de la segunda fila y las dos primeras columnas.\n",
    "\n",
    "- Extraed las filas pares (incluyendo la 0) y todas las columnas.\n",
    "\n",
    "- Extraed los valores que sean mayores que 0.5.\n",
    "\n",
    "- Extraed los valores menores que 0.2 o mayores que 0.5\n"
   ]
  },
  {
   "cell_type": "code",
   "execution_count": 3,
   "metadata": {},
   "outputs": [
    {
     "data": {
      "text/plain": [
       "80"
      ]
     },
     "execution_count": 3,
     "metadata": {},
     "output_type": "execute_result"
    }
   ],
   "source": [
    "array[0,0,1]"
   ]
  },
  {
   "cell_type": "code",
   "execution_count": 4,
   "metadata": {},
   "outputs": [
    {
     "data": {
      "text/plain": [
       "array([66, 14])"
      ]
     },
     "execution_count": 4,
     "metadata": {},
     "output_type": "execute_result"
    }
   ],
   "source": [
    "array[0,1,:2]"
   ]
  },
  {
   "cell_type": "code",
   "execution_count": 5,
   "metadata": {},
   "outputs": [
    {
     "data": {
      "text/plain": [
       "array([[35, 80, 91],\n",
       "       [26,  6, 69],\n",
       "       [47, 77, 82]])"
      ]
     },
     "execution_count": 5,
     "metadata": {},
     "output_type": "execute_result"
    }
   ],
   "source": [
    "array[0,::2,:]"
   ]
  },
  {
   "cell_type": "code",
   "execution_count": 6,
   "metadata": {},
   "outputs": [
    {
     "data": {
      "text/plain": [
       "array([35, 80, 91, 66, 95, 69, 52, 87, 38, 47, 77, 82, 82, 54, 49, 45, 81,\n",
       "       64, 67, 91, 66, 76])"
      ]
     },
     "execution_count": 6,
     "metadata": {},
     "output_type": "execute_result"
    }
   ],
   "source": [
    "array[array > 30]\n",
    "\n",
    "# hemos puesto otro valor porque estamos trabajando con int"
   ]
  },
  {
   "cell_type": "code",
   "execution_count": 7,
   "metadata": {},
   "outputs": [
    {
     "data": {
      "text/plain": [
       "array([35, 80, 91, 66, 14, 95, 26,  6, 69, 52, 87, 38, 47, 77, 82, 82, 54,\n",
       "       49, 45, 11, 81, 64, 67, 16, 91, 28, 66, 76, 28,  5])"
      ]
     },
     "execution_count": 7,
     "metadata": {},
     "output_type": "execute_result"
    }
   ],
   "source": [
    "array[(array > 30) | (array < 70)]"
   ]
  },
  {
   "attachments": {},
   "cell_type": "markdown",
   "metadata": {},
   "source": [
    "\n",
    "Cread dos array de tres dimensiones:\n",
    "\n",
    "- El primero de 2 matrices, 5 filas y 3 columnas.\n",
    "\n",
    "- El segundo de 3 matrices, 2 filas y 5 columnas"
   ]
  },
  {
   "cell_type": "code",
   "execution_count": 8,
   "metadata": {},
   "outputs": [],
   "source": [
    "array2 = np.random.randint(0,50, (2,5,3))\n",
    "array3 = np.random.randint(0,50, (3,2,5))"
   ]
  },
  {
   "cell_type": "code",
   "execution_count": 9,
   "metadata": {},
   "outputs": [
    {
     "data": {
      "text/plain": [
       "array([[[16, 36, 47],\n",
       "        [15, 40, 20],\n",
       "        [16,  9, 13],\n",
       "        [30, 43, 48],\n",
       "        [41, 27, 43]],\n",
       "\n",
       "       [[ 3, 16,  3],\n",
       "        [31, 19, 36],\n",
       "        [23, 24, 11],\n",
       "        [46, 48, 49],\n",
       "        [17, 28, 13]]])"
      ]
     },
     "execution_count": 9,
     "metadata": {},
     "output_type": "execute_result"
    }
   ],
   "source": [
    "array2"
   ]
  },
  {
   "cell_type": "code",
   "execution_count": 10,
   "metadata": {},
   "outputs": [
    {
     "data": {
      "text/plain": [
       "array([[[37,  6, 28, 26, 25],\n",
       "        [ 3,  5, 18, 14,  8]],\n",
       "\n",
       "       [[11, 42, 43,  4, 39],\n",
       "        [ 1, 36, 18, 15, 27]],\n",
       "\n",
       "       [[32,  2, 48, 16, 44],\n",
       "        [ 9, 21, 29, 33, 34]]])"
      ]
     },
     "execution_count": 10,
     "metadata": {},
     "output_type": "execute_result"
    }
   ],
   "source": [
    "array3"
   ]
  },
  {
   "attachments": {},
   "cell_type": "markdown",
   "metadata": {},
   "source": [
    "\n",
    "- Haced un análisis exploratorio de los array creados. Recordad que en el ejercicio de ayer nos creamos una función para esto."
   ]
  },
  {
   "cell_type": "code",
   "execution_count": 11,
   "metadata": {},
   "outputs": [],
   "source": [
    "def propiedades (array):\n",
    "    \n",
    "    forma_array = array.shape\n",
    "    tam_array = array.size\n",
    "    dim_array = array.ndim\n",
    "    tipo_array = array.dtype\n",
    "    \n",
    "    return f'La forma del array es {forma_array}, el tamaño del array es {tam_array}, las dimensiones del array son {dim_array}, el tipo del array es {tipo_array}'"
   ]
  },
  {
   "cell_type": "code",
   "execution_count": 12,
   "metadata": {},
   "outputs": [
    {
     "data": {
      "text/plain": [
       "'La forma del array es (2, 5, 3), el tamaño del array es 30, las dimensiones del array son 3, el tipo del array es int64'"
      ]
     },
     "execution_count": 12,
     "metadata": {},
     "output_type": "execute_result"
    }
   ],
   "source": [
    "propiedades(array2)"
   ]
  },
  {
   "cell_type": "code",
   "execution_count": 13,
   "metadata": {},
   "outputs": [
    {
     "data": {
      "text/plain": [
       "'La forma del array es (3, 2, 5), el tamaño del array es 30, las dimensiones del array son 3, el tipo del array es int64'"
      ]
     },
     "execution_count": 13,
     "metadata": {},
     "output_type": "execute_result"
    }
   ],
   "source": [
    "propiedades(array3)"
   ]
  },
  {
   "attachments": {},
   "cell_type": "markdown",
   "metadata": {},
   "source": [
    "\n",
    "- Sumad los dos arrays. ¿Podéis? ¿Por qué?\n"
   ]
  },
  {
   "attachments": {},
   "cell_type": "markdown",
   "metadata": {},
   "source": [
    "No podemos sumarlos poque tienen diferente forma."
   ]
  },
  {
   "cell_type": "markdown",
   "metadata": {},
   "source": [
    "\n",
    "Para cambiar la forma de un array y poder hacer operaciones entre arrays que tienen distintas formas hemos aprendido dos métodos:\n",
    "\n",
    "- .reshape()\n",
    "- .transpose()\n",
    "\n",
    "Utiliza estas dos funciones para cambiar la forma de los array y hacer operaciones entre ellos."
   ]
  },
  {
   "cell_type": "code",
   "execution_count": 14,
   "metadata": {},
   "outputs": [
    {
     "data": {
      "text/plain": [
       "array([[[35, 80, 91],\n",
       "        [66, 14, 95],\n",
       "        [26,  6, 69],\n",
       "        [52, 87, 38],\n",
       "        [47, 77, 82]],\n",
       "\n",
       "       [[82, 54, 49],\n",
       "        [45, 11, 81],\n",
       "        [64, 67, 16],\n",
       "        [91, 28, 66],\n",
       "        [76, 28,  5]]])"
      ]
     },
     "execution_count": 14,
     "metadata": {},
     "output_type": "execute_result"
    }
   ],
   "source": [
    "# utilizamos el reshape, cambiamos el array3 a la forma del array2 que es (2,5,3)\n",
    "array_nuevo_3 = np.reshape(array, (2,5,3))\n",
    "array_nuevo_3"
   ]
  },
  {
   "cell_type": "code",
   "execution_count": 15,
   "metadata": {},
   "outputs": [
    {
     "data": {
      "text/plain": [
       "array([[[ 51, 116, 138],\n",
       "        [ 81,  54, 115],\n",
       "        [ 42,  15,  82],\n",
       "        [ 82, 130,  86],\n",
       "        [ 88, 104, 125]],\n",
       "\n",
       "       [[ 85,  70,  52],\n",
       "        [ 76,  30, 117],\n",
       "        [ 87,  91,  27],\n",
       "        [137,  76, 115],\n",
       "        [ 93,  56,  18]]])"
      ]
     },
     "execution_count": 15,
     "metadata": {},
     "output_type": "execute_result"
    }
   ],
   "source": [
    "suma1 = array2 + array_nuevo_3\n",
    "suma1"
   ]
  },
  {
   "cell_type": "code",
   "execution_count": 16,
   "metadata": {},
   "outputs": [
    {
     "data": {
      "text/plain": [
       "array([[[16, 15, 16, 30, 41],\n",
       "        [ 3, 31, 23, 46, 17]],\n",
       "\n",
       "       [[36, 40,  9, 43, 27],\n",
       "        [16, 19, 24, 48, 28]],\n",
       "\n",
       "       [[47, 20, 13, 48, 43],\n",
       "        [ 3, 36, 11, 49, 13]]])"
      ]
     },
     "execution_count": 16,
     "metadata": {},
     "output_type": "execute_result"
    }
   ],
   "source": [
    "# en este caso cambiamos mediante los indices la forma del array2 para que sea igual a la del array3 (3,2,5)\n",
    "array_nuevo_2 = np.transpose(array2, (2,0,1))\n",
    "array_nuevo_2"
   ]
  },
  {
   "cell_type": "code",
   "execution_count": 17,
   "metadata": {},
   "outputs": [
    {
     "data": {
      "text/plain": [
       "array([[[53, 21, 44, 56, 66],\n",
       "        [ 6, 36, 41, 60, 25]],\n",
       "\n",
       "       [[47, 82, 52, 47, 66],\n",
       "        [17, 55, 42, 63, 55]],\n",
       "\n",
       "       [[79, 22, 61, 64, 87],\n",
       "        [12, 57, 40, 82, 47]]])"
      ]
     },
     "execution_count": 17,
     "metadata": {},
     "output_type": "execute_result"
    }
   ],
   "source": [
    "suma2 = array3 + array_nuevo_2\n",
    "suma2"
   ]
  },
  {
   "cell_type": "code",
   "execution_count": 19,
   "metadata": {},
   "outputs": [
    {
     "data": {
      "text/plain": [
       "array([[[2.3125    , 0.4       , 1.75      , 0.86666667, 0.6097561 ],\n",
       "        [1.        , 0.16129032, 0.7826087 , 0.30434783, 0.47058824]],\n",
       "\n",
       "       [[0.30555556, 1.05      , 4.77777778, 0.09302326, 1.44444444],\n",
       "        [0.0625    , 1.89473684, 0.75      , 0.3125    , 0.96428571]],\n",
       "\n",
       "       [[0.68085106, 0.1       , 3.69230769, 0.33333333, 1.02325581],\n",
       "        [3.        , 0.58333333, 2.63636364, 0.67346939, 2.61538462]]])"
      ]
     },
     "execution_count": 19,
     "metadata": {},
     "output_type": "execute_result"
    }
   ],
   "source": [
    "\n",
    "division = array3/array_nuevo_2\n",
    "\n",
    "division"
   ]
  },
  {
   "cell_type": "code",
   "execution_count": 21,
   "metadata": {},
   "outputs": [
    {
     "data": {
      "text/plain": [
       "array([[[ 592,   90,  448,  780, 1025],\n",
       "        [   9,  155,  414,  644,  136]],\n",
       "\n",
       "       [[ 396, 1680,  387,  172, 1053],\n",
       "        [  16,  684,  432,  720,  756]],\n",
       "\n",
       "       [[1504,   40,  624,  768, 1892],\n",
       "        [  27,  756,  319, 1617,  442]]])"
      ]
     },
     "execution_count": 21,
     "metadata": {},
     "output_type": "execute_result"
    }
   ],
   "source": [
    "multiplicacion = array3 * array_nuevo_2\n",
    "\n",
    "multiplicacion"
   ]
  },
  {
   "cell_type": "code",
   "execution_count": 23,
   "metadata": {},
   "outputs": [
    {
     "data": {
      "text/plain": [
       "array([[[ 21,  -9,  12,  -4, -16],\n",
       "        [  0, -26,  -5, -32,  -9]],\n",
       "\n",
       "       [[-25,   2,  34, -39,  12],\n",
       "        [-15,  17,  -6, -33,  -1]],\n",
       "\n",
       "       [[-15, -18,  35, -32,   1],\n",
       "        [  6, -15,  18, -16,  21]]])"
      ]
     },
     "execution_count": 23,
     "metadata": {},
     "output_type": "execute_result"
    }
   ],
   "source": [
    "subtracion = array3 - array_nuevo_2\n",
    "\n",
    "subtracion"
   ]
  }
 ],
 "metadata": {
  "kernelspec": {
   "display_name": "Python 3",
   "language": "python",
   "name": "python3"
  },
  "language_info": {
   "codemirror_mode": {
    "name": "ipython",
    "version": 3
   },
   "file_extension": ".py",
   "mimetype": "text/x-python",
   "name": "python",
   "nbconvert_exporter": "python",
   "pygments_lexer": "ipython3",
   "version": "3.11.0"
  },
  "orig_nbformat": 4,
  "vscode": {
   "interpreter": {
    "hash": "aee8b7b246df8f9039afb4144a1f6fd8d2ca17a180786b69acc140d282b71a49"
   }
  }
 },
 "nbformat": 4,
 "nbformat_minor": 2
}
