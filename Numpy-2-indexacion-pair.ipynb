{
 "cells": [
  {
   "attachments": {},
   "cell_type": "markdown",
   "metadata": {},
   "source": [
    "# Pair Programming NumPy II\n",
    "\n",
    "Seguimos trabajando con NumPy, en este caso practicaremos como acceder a distintos elementos de nuestros arrays y como cambiar su forma para poder hacer operaciones entre varios arrays.\n",
    "\n",
    "-Cread un array de dos dimensiones de 5 filas y 3 columnas. Sobre el array creado anteriormente, extraed:\n"
   ]
  },
  {
   "cell_type": "code",
   "execution_count": 1,
   "metadata": {},
   "outputs": [],
   "source": [
    "import numpy as np"
   ]
  },
  {
   "cell_type": "code",
   "execution_count": 2,
   "metadata": {},
   "outputs": [
    {
     "data": {
      "text/plain": [
       "array([[[78, 27, 16],\n",
       "        [64, 13, 53],\n",
       "        [ 0, 31, 50],\n",
       "        [10, 49, 54],\n",
       "        [67, 66, 76]],\n",
       "\n",
       "       [[41, 91, 86],\n",
       "        [67, 44, 69],\n",
       "        [86, 37, 90],\n",
       "        [68, 45, 21],\n",
       "        [96, 58, 75]]])"
      ]
     },
     "execution_count": 2,
     "metadata": {},
     "output_type": "execute_result"
    }
   ],
   "source": [
    "array = np.random.randint(0,100, (2,5,3))\n",
    "array"
   ]
  },
  {
   "attachments": {},
   "cell_type": "markdown",
   "metadata": {},
   "source": [
    "\n",
    "- El valor de la primera fila y la segunda columna.\n",
    "\n",
    "- Los valores de la segunda fila y las dos primeras columnas.\n",
    "\n",
    "- Extraed las filas pares (incluyendo la 0) y todas las columnas.\n",
    "\n",
    "- Extraed los valores que sean mayores que 0.5.\n",
    "\n",
    "- Extraed los valores menores que 0.2 o mayores que 0.5\n"
   ]
  },
  {
   "cell_type": "code",
   "execution_count": 5,
   "metadata": {},
   "outputs": [
    {
     "data": {
      "text/plain": [
       "27"
      ]
     },
     "execution_count": 5,
     "metadata": {},
     "output_type": "execute_result"
    }
   ],
   "source": [
    "array[0,0,1]"
   ]
  },
  {
   "cell_type": "code",
   "execution_count": 8,
   "metadata": {},
   "outputs": [
    {
     "data": {
      "text/plain": [
       "array([64, 13])"
      ]
     },
     "execution_count": 8,
     "metadata": {},
     "output_type": "execute_result"
    }
   ],
   "source": [
    "array[0,1,:2]"
   ]
  },
  {
   "cell_type": "code",
   "execution_count": 9,
   "metadata": {},
   "outputs": [
    {
     "data": {
      "text/plain": [
       "array([[78, 27, 16],\n",
       "       [ 0, 31, 50],\n",
       "       [67, 66, 76]])"
      ]
     },
     "execution_count": 9,
     "metadata": {},
     "output_type": "execute_result"
    }
   ],
   "source": [
    "array[0,::2,:]"
   ]
  },
  {
   "cell_type": "code",
   "execution_count": 13,
   "metadata": {},
   "outputs": [
    {
     "data": {
      "text/plain": [
       "array([78, 64, 53, 31, 50, 49, 54, 67, 66, 76, 41, 91, 86, 67, 44, 69, 86,\n",
       "       37, 90, 68, 45, 96, 58, 75])"
      ]
     },
     "execution_count": 13,
     "metadata": {},
     "output_type": "execute_result"
    }
   ],
   "source": [
    "array[array > 30]\n",
    "\n",
    "# hemos puesto otro valor porque estamos trabajando con int"
   ]
  },
  {
   "cell_type": "code",
   "execution_count": 15,
   "metadata": {},
   "outputs": [
    {
     "data": {
      "text/plain": [
       "array([78, 27, 16, 64, 13, 53,  0, 31, 50, 10, 49, 54, 67, 66, 76, 41, 91,\n",
       "       86, 67, 44, 69, 86, 37, 90, 68, 45, 21, 96, 58, 75])"
      ]
     },
     "execution_count": 15,
     "metadata": {},
     "output_type": "execute_result"
    }
   ],
   "source": [
    "array[(array > 30) | (array < 70)]"
   ]
  },
  {
   "attachments": {},
   "cell_type": "markdown",
   "metadata": {},
   "source": [
    "\n",
    "Cread dos array de tres dimensiones:\n",
    "\n",
    "- El primero de 2 matrices, 5 filas y 3 columnas.\n",
    "\n",
    "- El segundo de 3 matrices, 2 filas y 5 columnas"
   ]
  },
  {
   "cell_type": "code",
   "execution_count": 17,
   "metadata": {},
   "outputs": [],
   "source": [
    "array2 = np.random.randint(0,50, (2,5,3))\n",
    "array3 = np.random.randint(0,50, (3,2,5))"
   ]
  },
  {
   "cell_type": "code",
   "execution_count": 18,
   "metadata": {},
   "outputs": [
    {
     "data": {
      "text/plain": [
       "array([[[ 3, 46, 29],\n",
       "        [31, 26,  4],\n",
       "        [31, 28, 16],\n",
       "        [30, 15, 26],\n",
       "        [ 1, 30, 36]],\n",
       "\n",
       "       [[33, 26, 20],\n",
       "        [26, 24, 33],\n",
       "        [10, 43,  7],\n",
       "        [30,  6, 28],\n",
       "        [19, 32, 36]]])"
      ]
     },
     "execution_count": 18,
     "metadata": {},
     "output_type": "execute_result"
    }
   ],
   "source": [
    "array2"
   ]
  },
  {
   "cell_type": "code",
   "execution_count": 19,
   "metadata": {},
   "outputs": [
    {
     "data": {
      "text/plain": [
       "array([[[21,  0, 38, 28, 44],\n",
       "        [33, 38, 35, 34,  1]],\n",
       "\n",
       "       [[ 3, 10,  0, 20, 42],\n",
       "        [39, 11, 28, 45, 19]],\n",
       "\n",
       "       [[ 0, 21,  0, 39,  9],\n",
       "        [42, 15, 31, 31, 40]]])"
      ]
     },
     "execution_count": 19,
     "metadata": {},
     "output_type": "execute_result"
    }
   ],
   "source": [
    "array3"
   ]
  },
  {
   "attachments": {},
   "cell_type": "markdown",
   "metadata": {},
   "source": [
    "\n",
    "- Haced un análisis exploratorio de los array creados. Recordad que en el ejercicio de ayer nos creamos una función para esto."
   ]
  },
  {
   "cell_type": "code",
   "execution_count": 20,
   "metadata": {},
   "outputs": [],
   "source": [
    "def propiedades (array):\n",
    "    \n",
    "    forma_array = array.shape\n",
    "    tam_array = array.size\n",
    "    dim_array = array.ndim\n",
    "    tipo_array = array.dtype\n",
    "    \n",
    "    return f'La forma del array es {forma_array}, el tamaño del array es {tam_array}, las dimensiones del array son {dim_array}, el tipo del array es {tipo_array}'"
   ]
  },
  {
   "cell_type": "code",
   "execution_count": 21,
   "metadata": {},
   "outputs": [
    {
     "data": {
      "text/plain": [
       "'La forma del array es (2, 5, 3), el tamaño del array es 30, las dimensiones del array son 3, el tipo del array es int64'"
      ]
     },
     "execution_count": 21,
     "metadata": {},
     "output_type": "execute_result"
    }
   ],
   "source": [
    "propiedades(array2)"
   ]
  },
  {
   "cell_type": "code",
   "execution_count": 22,
   "metadata": {},
   "outputs": [
    {
     "data": {
      "text/plain": [
       "'La forma del array es (3, 2, 5), el tamaño del array es 30, las dimensiones del array son 3, el tipo del array es int64'"
      ]
     },
     "execution_count": 22,
     "metadata": {},
     "output_type": "execute_result"
    }
   ],
   "source": [
    "propiedades(array3)"
   ]
  },
  {
   "attachments": {},
   "cell_type": "markdown",
   "metadata": {},
   "source": [
    "\n",
    "- Sumad los dos arrays. ¿Podéis? ¿Por qué?\n"
   ]
  },
  {
   "attachments": {},
   "cell_type": "markdown",
   "metadata": {},
   "source": [
    "No podemos sumarlos poque tienen diferente forma."
   ]
  },
  {
   "cell_type": "markdown",
   "metadata": {},
   "source": [
    "\n",
    "Para cambiar la forma de un array y poder hacer operaciones entre arrays que tienen distintas formas hemos aprendido dos métodos:\n",
    "\n",
    "- .reshape()\n",
    "- .transpose()\n",
    "\n",
    "Utiliza estas dos funciones para cambiar la forma de los array y hacer operaciones entre ellos."
   ]
  },
  {
   "cell_type": "code",
   "execution_count": 25,
   "metadata": {},
   "outputs": [
    {
     "data": {
      "text/plain": [
       "array([[[78, 27, 16],\n",
       "        [64, 13, 53],\n",
       "        [ 0, 31, 50],\n",
       "        [10, 49, 54],\n",
       "        [67, 66, 76]],\n",
       "\n",
       "       [[41, 91, 86],\n",
       "        [67, 44, 69],\n",
       "        [86, 37, 90],\n",
       "        [68, 45, 21],\n",
       "        [96, 58, 75]]])"
      ]
     },
     "execution_count": 25,
     "metadata": {},
     "output_type": "execute_result"
    }
   ],
   "source": [
    "# utilizamos el reshape, cambiamos el array3 a la forma del array2 que es (2,5,3)\n",
    "array_nuevo_3 = np.reshape(array, (2,5,3))\n",
    "array_nuevo_3"
   ]
  },
  {
   "cell_type": "code",
   "execution_count": 31,
   "metadata": {},
   "outputs": [
    {
     "data": {
      "text/plain": [
       "array([[[ 81,  73,  45],\n",
       "        [ 95,  39,  57],\n",
       "        [ 31,  59,  66],\n",
       "        [ 40,  64,  80],\n",
       "        [ 68,  96, 112]],\n",
       "\n",
       "       [[ 74, 117, 106],\n",
       "        [ 93,  68, 102],\n",
       "        [ 96,  80,  97],\n",
       "        [ 98,  51,  49],\n",
       "        [115,  90, 111]]])"
      ]
     },
     "execution_count": 31,
     "metadata": {},
     "output_type": "execute_result"
    }
   ],
   "source": [
    "suma1 = array2 + array_nuevo_3\n",
    "suma1"
   ]
  },
  {
   "cell_type": "code",
   "execution_count": null,
   "metadata": {},
   "outputs": [],
   "source": [
    "# en este caso cambiamos mediante los indices la forma del array2 para que sea igual a la del array3 (3,2,5)\n",
    "array_nuevo_2 = np.transpose(array2, (2,0,1))\n",
    "array_nuevo_2"
   ]
  },
  {
   "cell_type": "code",
   "execution_count": 32,
   "metadata": {},
   "outputs": [
    {
     "data": {
      "text/plain": [
       "array([[[24, 31, 69, 58, 45],\n",
       "        [66, 64, 45, 64, 20]],\n",
       "\n",
       "       [[49, 36, 28, 35, 72],\n",
       "        [65, 35, 71, 51, 51]],\n",
       "\n",
       "       [[29, 25, 16, 65, 45],\n",
       "        [62, 48, 38, 59, 76]]])"
      ]
     },
     "execution_count": 32,
     "metadata": {},
     "output_type": "execute_result"
    }
   ],
   "source": [
    "suma2 = array3 + array_nuevo_2\n",
    "suma2"
   ]
  },
  {
   "cell_type": "code",
   "execution_count": 27,
   "metadata": {},
   "outputs": [
    {
     "data": {
      "text/plain": [
       "array([[[21,  0, 38, 28, 44],\n",
       "        [33, 38, 35, 34,  1]],\n",
       "\n",
       "       [[ 3, 10,  0, 20, 42],\n",
       "        [39, 11, 28, 45, 19]],\n",
       "\n",
       "       [[ 0, 21,  0, 39,  9],\n",
       "        [42, 15, 31, 31, 40]]])"
      ]
     },
     "execution_count": 27,
     "metadata": {},
     "output_type": "execute_result"
    }
   ],
   "source": [
    "#(3,2,5)\n",
    "array3"
   ]
  }
 ],
 "metadata": {
  "kernelspec": {
   "display_name": "Python 3",
   "language": "python",
   "name": "python3"
  },
  "language_info": {
   "codemirror_mode": {
    "name": "ipython",
    "version": 3
   },
   "file_extension": ".py",
   "mimetype": "text/x-python",
   "name": "python",
   "nbconvert_exporter": "python",
   "pygments_lexer": "ipython3",
   "version": "3.9.7"
  },
  "orig_nbformat": 4
 },
 "nbformat": 4,
 "nbformat_minor": 2
}
