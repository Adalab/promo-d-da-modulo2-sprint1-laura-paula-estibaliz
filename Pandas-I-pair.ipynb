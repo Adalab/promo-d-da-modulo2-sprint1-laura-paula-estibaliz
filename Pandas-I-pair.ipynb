{
 "cells": [
  {
   "attachments": {},
   "cell_type": "markdown",
   "metadata": {},
   "source": [
    "# Pair Programming Pandas I\n",
    "\n",
    "\n",
    "Empezamos los ejercicios de pair programming con Pandas. En esta lección hemos aprendido que son las Series y DataFrames y como podemos crearlos en Python.\n",
    "\n",
    "El objetivo de la clase de hoy será crear unos cuántos DataFrames y Series a través de los siguientes ejercicios:\n",
    "¿Qué diferencia hay entre una Serie y un DataFrame?\n",
    "\n",
    "Momento de trabajar con Series. Contestad a las siguientes preguntas:\n",
    "\n",
    "Crea dos listas:\n",
    "\n",
    "- Una que se llame \"valores\" que tenga 7 números aleatorios.\n",
    "\n",
    "- Otra que se llame \"indices\" que tenga 7 strings que se llamen como los días de la semana.\n",
    "\n",
    "- A partir de estas dos listas cread una Serie donde la variable \"valores\" sean los valores de la Serie y la variable indices sean los índices de la Serie.\n",
    "\n",
    "- A partir de las dos listas anteriores cread un diccionario usando un bucle for. Para hacer esto tenemos el método zip que nos permite iterar por dos listas a la vez. Más informción sobre este método.\n",
    "\n",
    "- Crea una Serie con el diccionario creado en el punto anterior.\n",
    "\n",
    "- ¿Qué forma tiene esta última Serie?\n",
    "- ¿Qué tipo de datos tiene?\n",
    "- ¿Qué tamaño tiene?\n",
    "- ¿Cuáles son los índices de la Serie?\n",
    "- ¿Y los values?\n",
    "\n",
    "- Extraed el valor para el índice \"lunes\"\n",
    "- Extraed el valor para el índice \"lunes\", \"martes\" y \"miércoles\".\n",
    "- Extraed el valor para el índice \"lunes\" y \"domingo\".\n"
   ]
  },
  {
   "cell_type": "code",
   "execution_count": null,
   "metadata": {},
   "outputs": [],
   "source": []
  },
  {
   "attachments": {},
   "cell_type": "markdown",
   "metadata": {},
   "source": [
    "Es el turno de los DataFrames\n",
    "\n",
    "- Cread un array de dos dimensiones con 4 filas y 3 columnas.\n",
    "- Convertid el array en un DataFrame donde las columnas se llamen \"España\", \"Francia\" e \"Italia\".\n",
    "\n",
    "Descargad el archivo \"medallas\" y cargad el DataFrame con la siguiente línea de código:\n",
    "df = pd.read_csv(\"medallas.csv\", index_col=[\"País\"])\n",
    "\n",
    "📌 NOTA Para evitar problemas guardar el archivo medallas.csv a la misma altura (en la misma carpeta) que el jupyter donde estamos trabajando.\n",
    "\n",
    "- Usando el loc extraed todas las columnas de la fila de Tailandia.\n",
    "\n",
    "- Usando el loc extraed todas las columnas de China e Irán.\n",
    "\n",
    "- Usando el loc extraed solo las columnas de \"Oro\", \"Plata\" y \"Bronce\" de China e Irán.\n",
    "\n",
    "- Usando el iloc extraed la información de la India. Devolved todas las columnas.\n",
    "\n",
    "- Usando el iloc extraed todas las columnas de los paises que estén en posición impar. La primera que nos tendría que salir es Japón y la última Corea del Norte.\n",
    "\n",
    "- Utilizando el código del ejercicio anterior, seleccionad unicamente las columnas \"Oro\", \"Plata\" y \"Bronce\".\n",
    "\n",
    "Contestad a las siguientes preguntas:\n",
    "\n",
    "- ¿Qué país consiguió más de 200 medallas de oro?\n",
    "\n",
    "- ¿Qué país consiguió más de 200 medallas de oro y más de 1000 de plata?\n",
    "\n",
    "- ¿Qué país consiguió más de 200 medallas de oro o más de 700 de bronce?\n",
    "\n",
    "- Como vemos hay una columna que se llama Unnamed: 0 que no nos interesa. Eliminad esa columna.\n",
    "\n",
    "- Cread una nueva columma que se llame \"total\" que sea el resultado de la suma de todas las medallas obtenidas por cada país.\n"
   ]
  },
  {
   "cell_type": "code",
   "execution_count": null,
   "metadata": {},
   "outputs": [],
   "source": []
  }
 ],
 "metadata": {
  "language_info": {
   "name": "python"
  },
  "orig_nbformat": 4
 },
 "nbformat": 4,
 "nbformat_minor": 2
}
