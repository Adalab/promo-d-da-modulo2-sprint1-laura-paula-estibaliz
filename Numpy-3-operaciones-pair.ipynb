{
 "cells": [
  {
   "attachments": {},
   "cell_type": "markdown",
   "metadata": {},
   "source": [
    "# Pair Programming NumPy III\n",
    "\n",
    "# Operaciones estadísticas y matemáticas\n",
    "\n",
    "En esta lección hemps aprendido algunas de las operaciones matemáticas más importantes que podemos aplicar a un array. \n",
    "Hoy pondremos en práctica algunas de estas operaciones, además de recordar algunas de los métodos aprendidos en otras lecciones y recordar como podemos iterar por un array.\n",
    "\n",
    "- Cread un array de tres dimensiones de 2 matrices, 3 filas y 5 columnas cuyos valores solo tengan 1 decimales. Sobre el array creado anteriormente, extraed:\n",
    "    - Calculad la media del array y almacenarlos en una variable. Redondead a un decimal.\n",
    "    - Calculad el valor máximo del array y almacenarlos en una variable. Redondead a un decimal.\n",
    "    - Calculad el valor mínimo del array y almacenarlos en una variable. Redondead a un decimal.\n",
    "    - Cread un array vacío con la misma forma y dimensiones que el array creado anteriormente.\n",
    "\n",
    "Vamos a reemplazar los valores de la matriz vacía que nos acabamos de crear pero basándonos en los valores del primer array bajo las siguientes condiciones:\n",
    "\n",
    "- Si el valor del array es igual que la media, se reemplaza por \"A\".\n",
    "- Si el valor del array es mayor que la media, se reemplaza por \"B\".\n",
    "- Si el valor del array es menor que la media, se reemplaza por \"C\".\n",
    "- Si el valor es igual que el máximo, se reemplaza por \"D\".\n",
    "- Si el valor es igual que el mínimo, se reemplaza por \"E\".\n",
    "\n",
    "A modo de ejemplo. Si tenemos el siguiente array\n"
   ]
  },
  {
   "cell_type": "code",
   "execution_count": 1,
   "metadata": {},
   "outputs": [],
   "source": [
    "import numpy as np"
   ]
  },
  {
   "cell_type": "code",
   "execution_count": null,
   "metadata": {},
   "outputs": [],
   "source": [
    "([[[0.4, 0.7, 0.2, 0.9, 0.2],\n",
    "    [0.1, 0.9, 0.6, 0.1, 0.2],\n",
    "    [1. , 0.2, 0.1, 0.8, 0.3]],\n",
    "​\n",
    "   [[0. , 0.3, 0.4, 0.5, 0.1],\n",
    "    [0.5, 0.7, 0.9, 0. , 0.8],\n",
    "    [0.5, 0.3, 0.5, 0.8, 0.1]]])"
   ]
  },
  {
   "attachments": {},
   "cell_type": "markdown",
   "metadata": {},
   "source": [
    "sabiendo que la media es 0.4 y el máximo es 1.0 y el mínimo es 0.0\n",
    "​\n",
    "nuestro array vacío debería quedar como este: \n"
   ]
  },
  {
   "cell_type": "code",
   "execution_count": null,
   "metadata": {},
   "outputs": [],
   "source": [
    "([[[\"A\", \"B\", \"C\", \"B\", \"C\"],\n",
    "    [\"C\", \"B\", \"B\", \"C\", \"C\"],\n",
    "    [\"D\" , \"C\", \"C\", \"B\", \"C\"]],\n",
    "​\n",
    "   [[\"E\" , \"C\", \"A\", \"B\", \"C\"],\n",
    "    [\"B\", \"B\",\"B\", \"E\" , \"B\"],\n",
    "    [\"B\", \"C\", \"B\", \"B\", \"C\"]]])"
   ]
  },
  {
   "cell_type": "code",
   "execution_count": 2,
   "metadata": {},
   "outputs": [
    {
     "data": {
      "text/plain": [
       "array([[[0.3, 0.8, 0.2, 1. , 0.4],\n",
       "        [0.7, 0.9, 0.4, 0.7, 0.9],\n",
       "        [0.9, 0.1, 0.3, 0.2, 1. ]],\n",
       "\n",
       "       [[0.9, 0.9, 0.4, 0.6, 0.5],\n",
       "        [0.3, 0.5, 0.2, 1. , 0.4],\n",
       "        [0.4, 0.6, 0.6, 0.9, 0.2]]])"
      ]
     },
     "execution_count": 2,
     "metadata": {},
     "output_type": "execute_result"
    }
   ],
   "source": [
    "array1 = np.round(np.random.rand(2, 3, 5), 1)\n",
    "\n",
    "\n",
    "array1"
   ]
  },
  {
   "cell_type": "code",
   "execution_count": 3,
   "metadata": {},
   "outputs": [
    {
     "data": {
      "text/plain": [
       "0.6"
      ]
     },
     "execution_count": 3,
     "metadata": {},
     "output_type": "execute_result"
    }
   ],
   "source": [
    "amedia = np.round(np.mean(array1), 1)\n",
    "\n",
    "amedia"
   ]
  },
  {
   "cell_type": "code",
   "execution_count": 4,
   "metadata": {},
   "outputs": [
    {
     "data": {
      "text/plain": [
       "1.0"
      ]
     },
     "execution_count": 4,
     "metadata": {},
     "output_type": "execute_result"
    }
   ],
   "source": [
    "amax = np.max(array1)\n",
    "\n",
    "amax"
   ]
  },
  {
   "cell_type": "code",
   "execution_count": 5,
   "metadata": {},
   "outputs": [
    {
     "data": {
      "text/plain": [
       "0.1"
      ]
     },
     "execution_count": 5,
     "metadata": {},
     "output_type": "execute_result"
    }
   ],
   "source": [
    "amin = np.min(array1)\n",
    "\n",
    "amin"
   ]
  },
  {
   "cell_type": "code",
   "execution_count": 8,
   "metadata": {},
   "outputs": [
    {
     "data": {
      "text/plain": [
       "array([[[0.3, 0.8, 0.2, 1. , 0.4],\n",
       "        [0.7, 0.9, 0.4, 0.7, 0.9],\n",
       "        [0.9, 0.1, 0.3, 0.2, 1. ]],\n",
       "\n",
       "       [[0.9, 0.9, 0.4, 0.6, 0.5],\n",
       "        [0.3, 0.5, 0.2, 1. , 0.4],\n",
       "        [0.4, 0.6, 0.6, 0.9, 0.2]]])"
      ]
     },
     "execution_count": 8,
     "metadata": {},
     "output_type": "execute_result"
    }
   ],
   "source": [
    "avacio = np.round(np.empty_like(array1),1)\n",
    "\n",
    "avacio"
   ]
  },
  {
   "cell_type": "code",
   "execution_count": 20,
   "metadata": {},
   "outputs": [
    {
     "ename": "ValueError",
     "evalue": "The truth value of an array with more than one element is ambiguous. Use a.any() or a.all()",
     "output_type": "error",
     "traceback": [
      "\u001b[0;31m---------------------------------------------------------------------------\u001b[0m",
      "\u001b[0;31mValueError\u001b[0m                                Traceback (most recent call last)",
      "Cell \u001b[0;32mIn[20], line 4\u001b[0m\n\u001b[1;32m      1\u001b[0m \u001b[39mfor\u001b[39;00m i \u001b[39min\u001b[39;00m array1:\n\u001b[1;32m      2\u001b[0m     avacio \u001b[39m=\u001b[39m []\n\u001b[0;32m----> 4\u001b[0m     \u001b[39mif\u001b[39;00m i  \u001b[39m==\u001b[39m amedia:\n\u001b[1;32m      5\u001b[0m         avacio\u001b[39m.\u001b[39mappend(\u001b[39m\"\u001b[39m\u001b[39mA\u001b[39m\u001b[39m\"\u001b[39m)\n\u001b[1;32m      6\u001b[0m     \u001b[39mif\u001b[39;00m i \u001b[39m>\u001b[39m amedia:\n",
      "\u001b[0;31mValueError\u001b[0m: The truth value of an array with more than one element is ambiguous. Use a.any() or a.all()"
     ]
    }
   ],
   "source": [
    "for i in array1:\n",
    "    avacio = []\n",
    "    \n",
    "    if i  == amedia:\n",
    "        avacio.append(\"A\")\n",
    "    if i > amedia:\n",
    "        avacio.append(\"B\")\n",
    "    if i < amedia:\n",
    "        avacio.append(\"C\")\n",
    "    if i == amax:\n",
    "        avacio.append(\"D\")\n",
    "    if i == amin:\n",
    "        avacio.append(\"E\")\n",
    "    else:\n",
    "        pass\n",
    "    \n",
    "    print(avacio)"
   ]
  },
  {
   "cell_type": "code",
   "execution_count": 18,
   "metadata": {},
   "outputs": [
    {
     "ename": "ValueError",
     "evalue": "The truth value of an array with more than one element is ambiguous. Use a.any() or a.all()",
     "output_type": "error",
     "traceback": [
      "\u001b[0;31m---------------------------------------------------------------------------\u001b[0m",
      "\u001b[0;31mValueError\u001b[0m                                Traceback (most recent call last)",
      "Cell \u001b[0;32mIn[18], line 4\u001b[0m\n\u001b[1;32m      2\u001b[0m avacio \u001b[39m=\u001b[39m []\n\u001b[1;32m      3\u001b[0m \u001b[39mfor\u001b[39;00m j \u001b[39min\u001b[39;00m i:\n\u001b[0;32m----> 4\u001b[0m     \u001b[39mif\u001b[39;00m j  \u001b[39m==\u001b[39m amedia:\n\u001b[1;32m      5\u001b[0m         avacio\u001b[39m.\u001b[39mappend(\u001b[39m\"\u001b[39m\u001b[39mA\u001b[39m\u001b[39m\"\u001b[39m)\n\u001b[1;32m      6\u001b[0m     \u001b[39melif\u001b[39;00m j \u001b[39m>\u001b[39m  amedia:\n",
      "\u001b[0;31mValueError\u001b[0m: The truth value of an array with more than one element is ambiguous. Use a.any() or a.all()"
     ]
    }
   ],
   "source": [
    "for i in array1:\n",
    "    avacio = []\n",
    "    for j in i:\n",
    "        if j  == amedia:\n",
    "            avacio.append(\"A\")\n",
    "        elif j >  amedia:\n",
    "            avacio.append(\"B\")\n",
    "        elif j <  amedia:\n",
    "            avacio.append(\"C\")\n",
    "        elif j == amax:\n",
    "            avacio.append(\"D\")\n",
    "        elif j == amin:\n",
    "            avacio.append(\"E\")\n",
    "            \n",
    "            \n",
    "    print(avacio)"
   ]
  },
  {
   "cell_type": "code",
   "execution_count": 22,
   "metadata": {},
   "outputs": [
    {
     "name": "stdout",
     "output_type": "stream",
     "text": [
      "['A', 'B', 'C', 'D']\n",
      "['A', 'B', 'C', 'E']\n"
     ]
    }
   ],
   "source": [
    "\"\"\"for i in array1:\n",
    "    avacio = []\n",
    "    if np.any(i == amedia):\n",
    "        avacio.append(\"A\")\n",
    "    if np.any(i > amedia):\n",
    "        avacio.append(\"B\")\n",
    "    if np.any(i < amedia):\n",
    "        avacio.append(\"C\")\n",
    "    if np.any(i == amax):\n",
    "        avacio.append(\"D\")\n",
    "    if np.any(i == amin):\n",
    "        avacio.append(\"E\")\n",
    "    else:\n",
    "        pass\n",
    "    \n",
    "    print(avacio)\"\"\"\n",
    "    \n",
    "    \n",
    "        \n",
    "    "
   ]
  },
  {
   "cell_type": "code",
   "execution_count": 10,
   "metadata": {},
   "outputs": [
    {
     "ename": "NameError",
     "evalue": "name 'dtype' is not defined",
     "output_type": "error",
     "traceback": [
      "\u001b[0;31m---------------------------------------------------------------------------\u001b[0m",
      "\u001b[0;31mNameError\u001b[0m                                 Traceback (most recent call last)",
      "\u001b[1;32m/mnt/c/Users/penny/OneDrive/Documentos/ADALAB/pair programming/promo-d-da-modulo2-sprint1-laura-paula-estibaliz/Numpy-3-operaciones-pair.ipynb Celda 14\u001b[0m in \u001b[0;36m1\n\u001b[0;32m----> <a href='vscode-notebook-cell://wsl%2Bubuntu-18.04/mnt/c/Users/penny/OneDrive/Documentos/ADALAB/pair%20programming/promo-d-da-modulo2-sprint1-laura-paula-estibaliz/Numpy-3-operaciones-pair.ipynb#X16sdnNjb2RlLXJlbW90ZQ%3D%3D?line=0'>1</a>\u001b[0m array_nuevo \u001b[39m=\u001b[39m (avacio, dtype \u001b[39m==\u001b[39m \u001b[39mstr\u001b[39m)\n\u001b[1;32m      <a href='vscode-notebook-cell://wsl%2Bubuntu-18.04/mnt/c/Users/penny/OneDrive/Documentos/ADALAB/pair%20programming/promo-d-da-modulo2-sprint1-laura-paula-estibaliz/Numpy-3-operaciones-pair.ipynb#X16sdnNjb2RlLXJlbW90ZQ%3D%3D?line=2'>3</a>\u001b[0m \u001b[39mfor\u001b[39;00m i \u001b[39min\u001b[39;00m \u001b[39mrange\u001b[39m(array1\u001b[39m.\u001b[39mshape[\u001b[39m0\u001b[39m]):\n\u001b[1;32m      <a href='vscode-notebook-cell://wsl%2Bubuntu-18.04/mnt/c/Users/penny/OneDrive/Documentos/ADALAB/pair%20programming/promo-d-da-modulo2-sprint1-laura-paula-estibaliz/Numpy-3-operaciones-pair.ipynb#X16sdnNjb2RlLXJlbW90ZQ%3D%3D?line=3'>4</a>\u001b[0m     \u001b[39mfor\u001b[39;00m j \u001b[39min\u001b[39;00m \u001b[39mrange\u001b[39m(array1\u001b[39m.\u001b[39mshape[\u001b[39m1\u001b[39m]):\n",
      "\u001b[0;31mNameError\u001b[0m: name 'dtype' is not defined"
     ]
    }
   ],
   "source": [
    "array_nuevo = (avacio, dtype = str)\n",
    "\n",
    "for i in range(array1.shape[0]):\n",
    "    for j in range(array1.shape[1]):\n",
    "        for k in range(array1.shape[2]):\n",
    "            \n",
    "            if array1[i,j,k]  == amedia:\n",
    "                array_nuevo[i,j,k] = \"A\"\n",
    "            elif array1[i,j,k] >  amedia:\n",
    "                array_nuevo[i,j,k] = \"B\"\n",
    "            elif array1[i,j,k] <  amedia:\n",
    "                array_nuevo[i,j,k] = \"C\"\n",
    "            elif array1[i,j,k] == amax:\n",
    "                array_nuevo[i,j,k] = \"D\"\n",
    "            elif array1[i,j,k] == amin:\n",
    "                array_nuevo[i,j,k] = \"E\"\n",
    "    \n",
    "print(array_nuevo)"
   ]
  },
  {
   "cell_type": "markdown",
   "metadata": {},
   "source": [
    "\n",
    "💡 Pista 💡 \n",
    "\n",
    "Tendréis que iterar por el array y cambiar los valores de la matriz vacía. Para eso tendremos que usar distintos condicionales.\n",
    "\n",
    "Estupendo, tenemos un array con strings. Ahora realizaremos un ejercicio similar al anterior, pero en este caso nos crearemos un array vacío unidimensional de 30 elementos. Al final de este ejercicio acabaremos teniendo un array de tres dimensiones con la misma forma que el primero que nos creamos.\n",
    "\n",
    "En este caso:\n",
    "\n",
    "-  Si el valor del array creado en el ejercicio anterior es \"A\" o \"B\" lo reemplazaremos por 1\n",
    "-  Si el valor del array creado en el ejercicio anterior es \"C\" o \"D\" lo reemplazaremos por 2\n",
    "-  Si el valor del array creado en el ejercicio anterior es \"E\" lo reemplazaremos por 3.\n",
    "- Una vez que hayas reemplazado todos los valores cambiad la forma del array para que sea de tres dimensiones, con 2 matrices, 3 filas y 5 columnas."
   ]
  },
  {
   "cell_type": "code",
   "execution_count": null,
   "metadata": {},
   "outputs": [],
   "source": []
  }
 ],
 "metadata": {
  "kernelspec": {
   "display_name": "Python 3",
   "language": "python",
   "name": "python3"
  },
  "language_info": {
   "codemirror_mode": {
    "name": "ipython",
    "version": 3
   },
   "file_extension": ".py",
   "mimetype": "text/x-python",
   "name": "python",
   "nbconvert_exporter": "python",
   "pygments_lexer": "ipython3",
   "version": "3.10.9"
  },
  "orig_nbformat": 4
 },
 "nbformat": 4,
 "nbformat_minor": 2
}
