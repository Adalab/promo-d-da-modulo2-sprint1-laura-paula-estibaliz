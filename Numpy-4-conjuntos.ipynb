{
 "cells": [
  {
   "attachments": {},
   "cell_type": "markdown",
   "metadata": {},
   "source": [
    "# Pair Programming NumPy IV\n",
    "\n",
    "Manos a la obra con la última lección de NumPy. En este caso pondremos en práctica como generar arrays que sigan ciertas distribuciones, así como las operaciones de teoría de conjuntos básicas.\n",
    "\n",
    "¿Cómo podemos crear dos arrays de dos dimensiones usando el método random_sample que tengan los mismos valores?\n"
   ]
  },
  {
   "cell_type": "code",
   "execution_count": 1,
   "metadata": {},
   "outputs": [],
   "source": [
    "import numpy as np"
   ]
  },
  {
   "cell_type": "code",
   "execution_count": 12,
   "metadata": {},
   "outputs": [
    {
     "data": {
      "text/plain": [
       "array([[4.17022005e-01, 7.20324493e-01, 1.14374817e-04, 3.02332573e-01,\n",
       "        1.46755891e-01],\n",
       "       [9.23385948e-02, 1.86260211e-01, 3.45560727e-01, 3.96767474e-01,\n",
       "        5.38816734e-01],\n",
       "       [4.19194514e-01, 6.85219500e-01, 2.04452250e-01, 8.78117436e-01,\n",
       "        2.73875932e-02]])"
      ]
     },
     "execution_count": 12,
     "metadata": {},
     "output_type": "execute_result"
    }
   ],
   "source": [
    "np.random.seed(1)\n",
    "\n",
    "array1 = np.random.random_sample((3,5))\n",
    "\n",
    "array1"
   ]
  },
  {
   "cell_type": "code",
   "execution_count": 8,
   "metadata": {},
   "outputs": [
    {
     "data": {
      "text/plain": [
       "array([[4.17022005e-01, 7.20324493e-01, 1.14374817e-04, 3.02332573e-01,\n",
       "        1.46755891e-01],\n",
       "       [9.23385948e-02, 1.86260211e-01, 3.45560727e-01, 3.96767474e-01,\n",
       "        5.38816734e-01],\n",
       "       [4.19194514e-01, 6.85219500e-01, 2.04452250e-01, 8.78117436e-01,\n",
       "        2.73875932e-02]])"
      ]
     },
     "execution_count": 8,
     "metadata": {},
     "output_type": "execute_result"
    }
   ],
   "source": [
    "np.random.seed(1)\n",
    "\n",
    "array2 = np.random.random_sample((3,5))\n",
    "\n",
    "array2"
   ]
  },
  {
   "attachments": {},
   "cell_type": "markdown",
   "metadata": {},
   "source": [
    "\n",
    "Cread los siguientes arrays:\n",
    "\n",
    "Un array de tres dimensiones con distribución uniforme de 2 x 3 x 5, con números entre 0 y 10, que no tengan decimales y extrae sus valores únicos almacenándolos en una variable.\n",
    "\n",
    "Un array de tres dimensiones con distribución binomial de 2 x 3 x 5, con probabilidad de 0.3 y número de pruebas igual a 10. Igual que antes, extrae sus valores únicos y guarda los datos en una variable.\n",
    "\n",
    "En esta lección hemos aprendido algunos métodos de teórias de conjuntos. Usando los arrays de elementos únicos obtenidos en el ejercicio anterior realizad las siguientes operaciones:\n",
    "\n",
    "Elementos comunes entre los dos arrays\n",
    "\n",
    "Unión de los dos arrays\n"
   ]
  },
  {
   "cell_type": "code",
   "execution_count": 27,
   "metadata": {},
   "outputs": [
    {
     "data": {
      "text/plain": [
       "array([[[ 2.,  9.,  3.,  8.,  7.],\n",
       "        [ 9.,  6.,  8.,  3.,  3.],\n",
       "        [ 9.,  4., 10.,  7.,  6.]],\n",
       "\n",
       "       [[ 1.,  9.,  4.,  6.,  4.],\n",
       "        [ 2.,  9.,  6.,  0.,  6.],\n",
       "        [ 3.,  5.,  9.,  4.,  9.]]])"
      ]
     },
     "execution_count": 27,
     "metadata": {},
     "output_type": "execute_result"
    }
   ],
   "source": [
    "uniforme = np.round(np.random.uniform(0,10, size = (2, 3, 5)),0)\n",
    "uniforme"
   ]
  },
  {
   "cell_type": "code",
   "execution_count": 32,
   "metadata": {},
   "outputs": [
    {
     "data": {
      "text/plain": [
       "array([ 0.,  1.,  2.,  3.,  4.,  5.,  6.,  7.,  8.,  9., 10.])"
      ]
     },
     "execution_count": 32,
     "metadata": {},
     "output_type": "execute_result"
    }
   ],
   "source": [
    "unicos1 = np.unique(uniforme)\n",
    "unicos1"
   ]
  },
  {
   "cell_type": "code",
   "execution_count": 30,
   "metadata": {},
   "outputs": [
    {
     "data": {
      "text/plain": [
       "array([[[4, 3, 5, 4, 3],\n",
       "        [1, 1, 1, 1, 1],\n",
       "        [2, 4, 3, 0, 1]],\n",
       "\n",
       "       [[6, 3, 2, 2, 4],\n",
       "        [2, 3, 6, 4, 2],\n",
       "        [3, 3, 4, 2, 0]]])"
      ]
     },
     "execution_count": 30,
     "metadata": {},
     "output_type": "execute_result"
    }
   ],
   "source": [
    "binomial = np.random.binomial(10, 0.3, size = (2, 3, 5))\n",
    "binomial"
   ]
  },
  {
   "cell_type": "code",
   "execution_count": 33,
   "metadata": {},
   "outputs": [
    {
     "data": {
      "text/plain": [
       "array([0, 1, 2, 3, 4, 5, 6])"
      ]
     },
     "execution_count": 33,
     "metadata": {},
     "output_type": "execute_result"
    }
   ],
   "source": [
    "unicos2 = np.unique(binomial)\n",
    "unicos2"
   ]
  },
  {
   "cell_type": "code",
   "execution_count": 34,
   "metadata": {},
   "outputs": [
    {
     "data": {
      "text/plain": [
       "array([0., 1., 2., 3., 4., 5., 6.])"
      ]
     },
     "execution_count": 34,
     "metadata": {},
     "output_type": "execute_result"
    }
   ],
   "source": [
    "one_direction = np.intersect1d(unicos1, unicos2)\n",
    "one_direction"
   ]
  },
  {
   "cell_type": "code",
   "execution_count": 35,
   "metadata": {},
   "outputs": [
    {
     "data": {
      "text/plain": [
       "array([ 0.,  1.,  2.,  3.,  4.,  5.,  6.,  7.,  8.,  9., 10.])"
      ]
     },
     "execution_count": 35,
     "metadata": {},
     "output_type": "execute_result"
    }
   ],
   "source": [
    "union_one_direction = np.union1d(unicos1, unicos2)\n",
    "union_one_direction"
   ]
  },
  {
   "attachments": {},
   "cell_type": "markdown",
   "metadata": {},
   "source": [
    "\n",
    "\n",
    "¿Qué elementos están en el array derivado de la distribución uniforme y no en los únicos de la distribución binomial? Extrae los valores númericos\n",
    "⚠️ Explicar cada uno de los outputs que os salgan. Que significa cada una de estas operaciones que hemos ido extrayendo?\n",
    "\n"
   ]
  },
  {
   "cell_type": "code",
   "execution_count": 36,
   "metadata": {},
   "outputs": [
    {
     "data": {
      "text/plain": [
       "array([ 7.,  8.,  9., 10.])"
      ]
     },
     "execution_count": 36,
     "metadata": {},
     "output_type": "execute_result"
    }
   ],
   "source": [
    "set_ub = np.setdiff1d(uniforme, binomial)\n",
    "set_ub"
   ]
  },
  {
   "cell_type": "code",
   "execution_count": 37,
   "metadata": {},
   "outputs": [
    {
     "data": {
      "text/plain": [
       "array([], dtype=int64)"
      ]
     },
     "execution_count": 37,
     "metadata": {},
     "output_type": "execute_result"
    }
   ],
   "source": [
    "# qué\n",
    "set_bu = np.setdiff1d(binomial, uniforme)\n",
    "set_bu"
   ]
  },
  {
   "cell_type": "code",
   "execution_count": 39,
   "metadata": {},
   "outputs": [
    {
     "name": "stdout",
     "output_type": "stream",
     "text": [
      "[[[4 3 5 4 3]\n",
      "  [1 1 1 1 1]\n",
      "  [2 4 3 0 1]]\n",
      "\n",
      " [[6 3 2 2 4]\n",
      "  [2 3 6 4 2]\n",
      "  [3 3 4 2 0]]]\n",
      "[[[ 2.  9.  3.  8.  7.]\n",
      "  [ 9.  6.  8.  3.  3.]\n",
      "  [ 9.  4. 10.  7.  6.]]\n",
      "\n",
      " [[ 1.  9.  4.  6.  4.]\n",
      "  [ 2.  9.  6.  0.  6.]\n",
      "  [ 3.  5.  9.  4.  9.]]]\n"
     ]
    }
   ],
   "source": [
    "print(binomial)\n",
    "print(uniforme)"
   ]
  },
  {
   "attachments": {},
   "cell_type": "markdown",
   "metadata": {},
   "source": [
    "Cread dos arrays usando el método random.randint de Numpy con 80 elementos cada uno con números del 1-100, con los siguientes nombres array1 y array2.\n",
    "\n",
    "Extraed los valores únicos de cada uno de los arrays y los guardáis en variables en las que se les llame array1 y array2.\n",
    "\n",
    "Identificad los elementos presentes en el array1 pero no en el array2 y asiganarlo a una variable que se llame array3.\n",
    "\n",
    "Identificad los elementos presentes en el array2 pero no en el array1 y asiganarlo a una variable que se llame array4."
   ]
  },
  {
   "cell_type": "code",
   "execution_count": 42,
   "metadata": {},
   "outputs": [
    {
     "data": {
      "text/plain": [
       "array([77, 39, 92, 70, 99, 34, 44, 27, 57, 70, 74, 53, 90, 28, 44,  2, 83,\n",
       "       95, 97, 27, 85, 31, 65, 23, 99, 53,  4, 71, 13, 40, 84, 49, 62, 71,\n",
       "       14, 37, 24, 23, 67, 93, 96, 54, 10, 42, 58, 89, 94, 77, 83, 12, 37,\n",
       "       17, 31, 85, 58, 36, 42, 82,  3, 86, 94, 37, 47, 81, 28, 73, 29,  3,\n",
       "       14, 42, 37, 41, 19, 98, 39, 64, 47, 90,  3, 99])"
      ]
     },
     "execution_count": 42,
     "metadata": {},
     "output_type": "execute_result"
    }
   ],
   "source": [
    "array3 = np.random.randint(1,100, (80))\n",
    "array3"
   ]
  },
  {
   "cell_type": "code",
   "execution_count": 44,
   "metadata": {},
   "outputs": [
    {
     "data": {
      "text/plain": [
       "array([69,  4, 59, 13,  3, 77, 97, 97, 62, 16, 75, 13, 19, 31, 60,  6, 17,\n",
       "       96, 97, 61, 44, 32, 45, 25, 63, 80, 22, 20, 78, 34,  5, 40, 68, 35,\n",
       "       35, 43, 79, 83, 39, 49, 82,  6, 92,  9, 41, 70,  6,  8, 79, 38, 79,\n",
       "       34, 28, 52, 78, 31, 44, 47, 10, 68,  4, 68, 55, 98, 64, 81, 29, 38,\n",
       "       65, 38, 94, 19, 79, 71, 93, 53, 11, 33, 47, 64])"
      ]
     },
     "execution_count": 44,
     "metadata": {},
     "output_type": "execute_result"
    }
   ],
   "source": [
    "array4 = np.random.randint(1,100, (80))\n",
    "array4"
   ]
  },
  {
   "cell_type": "code",
   "execution_count": 45,
   "metadata": {},
   "outputs": [
    {
     "data": {
      "text/plain": [
       "array([ 2,  3,  4, 10, 12, 13, 14, 17, 19, 23, 24, 27, 28, 29, 31, 34, 36,\n",
       "       37, 39, 40, 41, 42, 44, 47, 49, 53, 54, 57, 58, 62, 64, 65, 67, 70,\n",
       "       71, 73, 74, 77, 81, 82, 83, 84, 85, 86, 89, 90, 92, 93, 94, 95, 96,\n",
       "       97, 98, 99])"
      ]
     },
     "execution_count": 45,
     "metadata": {},
     "output_type": "execute_result"
    }
   ],
   "source": [
    "unique1 = np.unique(array3)\n",
    "unique1"
   ]
  },
  {
   "cell_type": "code",
   "execution_count": 46,
   "metadata": {},
   "outputs": [
    {
     "data": {
      "text/plain": [
       "array([ 3,  4,  5,  6,  8,  9, 10, 11, 13, 16, 17, 19, 20, 22, 25, 28, 29,\n",
       "       31, 32, 33, 34, 35, 38, 39, 40, 41, 43, 44, 45, 47, 49, 52, 53, 55,\n",
       "       59, 60, 61, 62, 63, 64, 65, 68, 69, 70, 71, 75, 77, 78, 79, 80, 81,\n",
       "       82, 83, 92, 93, 94, 96, 97, 98])"
      ]
     },
     "execution_count": 46,
     "metadata": {},
     "output_type": "execute_result"
    }
   ],
   "source": [
    "unique2 = np.unique(array4)\n",
    "unique2"
   ]
  },
  {
   "cell_type": "code",
   "execution_count": 47,
   "metadata": {},
   "outputs": [
    {
     "data": {
      "text/plain": [
       "array([ 2, 12, 14, 23, 24, 27, 36, 37, 42, 54, 57, 58, 67, 73, 74, 84, 85,\n",
       "       86, 89, 90, 95, 99])"
      ]
     },
     "execution_count": 47,
     "metadata": {},
     "output_type": "execute_result"
    }
   ],
   "source": [
    "elementos_u1_u2 = np.setdiff1d(unique1, unique2)\n",
    "elementos_u1_u2"
   ]
  },
  {
   "cell_type": "code",
   "execution_count": 48,
   "metadata": {},
   "outputs": [
    {
     "data": {
      "text/plain": [
       "array([ 5,  6,  8,  9, 11, 16, 20, 22, 25, 32, 33, 35, 38, 43, 45, 52, 55,\n",
       "       59, 60, 61, 63, 68, 69, 75, 78, 79, 80])"
      ]
     },
     "execution_count": 48,
     "metadata": {},
     "output_type": "execute_result"
    }
   ],
   "source": [
    "elementos_u2_u1 = np.setdiff1d(unique2, unique1)\n",
    "elementos_u2_u1"
   ]
  },
  {
   "attachments": {},
   "cell_type": "markdown",
   "metadata": {},
   "source": [
    "Identificad los elementos presentes en ambos arrays y asiganarlos a una variable que se llame array5.\n",
    "\n",
    "¿Cuál es la relación que existe entre todos estos arrays? \n",
    "\n",
    "💡 Pista 💡 Tendréis que usar las longitudes de cada uno de los arrays creados."
   ]
  },
  {
   "cell_type": "code",
   "execution_count": 49,
   "metadata": {},
   "outputs": [
    {
     "data": {
      "text/plain": [
       "array([ 3,  4, 10, 13, 17, 19, 28, 29, 31, 34, 39, 40, 41, 44, 47, 49, 53,\n",
       "       62, 64, 65, 70, 71, 77, 81, 82, 83, 92, 93, 94, 96, 97, 98])"
      ]
     },
     "execution_count": 49,
     "metadata": {},
     "output_type": "execute_result"
    }
   ],
   "source": [
    "comunes = np.intersect1d(array3, array4)\n",
    "comunes"
   ]
  },
  {
   "cell_type": "code",
   "execution_count": 53,
   "metadata": {},
   "outputs": [
    {
     "name": "stdout",
     "output_type": "stream",
     "text": [
      "3\n",
      "3\n",
      "80\n",
      "80\n",
      "2\n"
     ]
    }
   ],
   "source": [
    "print(len(array1))\n",
    "print(len(array2))\n",
    "print(len(array3))\n",
    "print(len(array4))\n",
    "print(len(binomial))\n"
   ]
  }
 ],
 "metadata": {
  "kernelspec": {
   "display_name": "Python 3",
   "language": "python",
   "name": "python3"
  },
  "language_info": {
   "codemirror_mode": {
    "name": "ipython",
    "version": 3
   },
   "file_extension": ".py",
   "mimetype": "text/x-python",
   "name": "python",
   "nbconvert_exporter": "python",
   "pygments_lexer": "ipython3",
   "version": "3.9.7"
  },
  "orig_nbformat": 4
 },
 "nbformat": 4,
 "nbformat_minor": 2
}
